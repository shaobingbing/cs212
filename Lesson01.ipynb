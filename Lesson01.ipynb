{
 "cells": [
  {
   "cell_type": "markdown",
   "metadata": {},
   "source": [
    "# Write A Poker Program "
   ]
  },
  {
   "cell_type": "markdown",
   "metadata": {},
   "source": [
    "## Notation\n",
    "Input: 5 cards: Every card has a rank and a suit  \n",
    "example: the 5 of diamonds, the rank is 5 and the suit is diamond  \n",
    "Output: return the best hand  \n",
    "four suit: Spades(S) Heart(H) Diamonds(D) Club(C)"
   ]
  },
  {
   "cell_type": "markdown",
   "metadata": {},
   "source": [
    "## The rule of poker:\n",
    "hand_rank -> map a hand to something  \n",
    "example:  \n",
    "j j 2 2 5 -> 2 pairs  \n",
    "5 6 7 8 9 -> straight  \n",
    "10 9 5 4 2 -> flush (the same suit)  "
   ]
  },
  {
   "cell_type": "markdown",
   "metadata": {},
   "source": [
    "### Q1:Representing hands  \n",
    "(1)\\['JS', 'JD', '2S', '2C', '7H'\\]  \n",
    "(2)\\[(11, 'S'), (11, 'D'), (2, 'S'), (2,'C'), (7, 'H)\\]  \n",
    "(3)set(\\['JS', 'JD', '2S', '2C', '7H'\\])  \n",
    "(4)\"JS JD 2S 2C 7H\"  \n",
    "  \n",
    "### Answer:\n",
    "(3)won't work well when we have two decks  \n",
    "(4) need to do some proprocess"
   ]
  },
  {
   "cell_type": "code",
   "execution_count": 18,
   "metadata": {},
   "outputs": [
    {
     "name": "stdout",
     "output_type": "stream",
     "text": [
      "test pass\n"
     ]
    }
   ],
   "source": [
    "\"\"\"\n",
    "# Max is a function that takes a list as input and return s the highest ranking one.\n",
    "# Program One:\n",
    "\"\"\"\n",
    "def poker(hands):\n",
    "    \"Return the best hand: poker([hand, ...]) => hand\"\n",
    "    return allmax(hands, key = hand_ranks)\n",
    "\n",
    "def allmax(iterable, key = None):\n",
    "    \"return a list of all item equal to the max of the iterable\"\n",
    "    result, maxval = [], None\n",
    "    key = key or (lambda x: x)\n",
    "    for x in iterable:\n",
    "        xval = key(x)\n",
    "        if not result or xval > maxval:\n",
    "            result, maxval = [x], xval\n",
    "        elif xval == maxval:\n",
    "            result.append(x)\n",
    "    return result\n",
    "\n",
    "# takes a hand as input and return some sort of a rank\n",
    "\"\"\"\n",
    "A -> 14(AD AS AH AC 5C)\n",
    "A -> 1 (AS 2S 3S 4S 5S)\n",
    "straight and flush:8 TD 9D 8D 7D 6D --------> (8, 10)\n",
    "4 kind:            7 9D 8S 9H 9C 6S --------> (1) 70905 (2)7.0905 (3) (7,9,5)\n",
    "                      3D 3S 3H 3C 4S --------> (1) 70304 (2)7.0304 (3) (7,3,4)\n",
    "full house:        6 8S 8D 8H 2S 2H --------> (6,8,2)\n",
    "flush:             5 TD 8D 7D 5D 3D --------> (5,[10,8,7,5,3])\n",
    "straight:          4 JC TS 9D 8C 7C --------> (4,11)\n",
    "three:             3 7H 7D 7C 5C 2C --------> (3,7,[7,7,7,5,2])\n",
    "two pairs:         2 JD JC 3S 3H KH --------> (2,(11,3),[13,11,11,3,3])\n",
    "one pair:          1 2D 2C JD 6H 3C --------> (1,2,[11,6,3,2,2])\n",
    "other(High Card):  0 7C 5C 4C 3C 2D --------> (0,7,5,4,3,2)\n",
    "\"\"\"\n",
    "# straight(ranks): returns True if the hand is a straight\n",
    "# flush(hand):     returns True if the hand is a flush\n",
    "# kind(n, rans):   return the first rank that the hand has exactly n of. For a hand with 4 sevens, this\n",
    "#                  function would return 7\n",
    "# two_pair(ranks): If there is a two pair, this function returns their corresponding ranks as a tuple.\n",
    "#                  For example, a hand with 2 twos and 2 fours would cause this function to return (4,2)\n",
    "# card_ranks(hand) return and ORDERED tuple of the ranks in a hand (where the order goes from highest to \n",
    "#                  lowerese rank)\n",
    "\n",
    "def card_ranks(hand):\n",
    "    \"Return a list of ranks, sorted woth higher first\"\n",
    "    ranks = ['--23456789TJQKA'.index(r) for r,s in hand]\n",
    "#     print(ranks)\n",
    "    ranks.sort(reverse = True)\n",
    "    return [5, 4, 3, 2, 1] if (ranks == [14, 5, 4, 3, 2]) else ranks\n",
    "\n",
    "def straight(ranks):\n",
    "    \"Return True if the ordered ranks form a 5-card straight\"\n",
    "    return max(ranks) - min(ranks) == 4 and len(set(ranks)) == 5\n",
    "    \n",
    "def flush(hand):\n",
    "    \"Return True if all the card have the same suit\"\n",
    "    suits = [s for r,s in hand]\n",
    "    return len(set(suits)) == 1\n",
    "\n",
    "def kind(n ,ranks):\n",
    "    \"\"\"Return the first rank that this hand has exactly n of.\n",
    "    Return None if there is no n-of-a-kind in the hand.\"\"\"\n",
    "    for r in ranks:\n",
    "        if ranks.count(r) == n:\n",
    "            return r\n",
    "    return None\n",
    "\n",
    "def two_pair(ranks):\n",
    "    \"\"\"If there are two pair, return the two ranks as a tuple:\n",
    "    (highest, lowest); otherwise return None.\"\"\"\n",
    "    pair = kind(2, ranks)\n",
    "    lowpair = kind(2, list(reversed(ranks)))\n",
    "    if pair and pair != lowpair:\n",
    "        return  pair,lowpair\n",
    "    return None\n",
    "    \n",
    "def hand_ranks(hand):\n",
    "    \"Return a value indicating the ranking of a hand\"\n",
    "    #extract the ranks of the hand\n",
    "    ranks = card_ranks(hand)\n",
    "    #straight and flush\n",
    "    if straight(ranks) and flush(hand):\n",
    "        # 2 3 4 5 6 => (8, 6) | 6 7 8 9 T => (8, 10)\n",
    "        return (8, max(ranks))\n",
    "    elif kind(4, ranks):\n",
    "        # 9 9 9 9 3 =>(7, 9, 3)\n",
    "        return (7, kind(4, ranks), kind(1, ranks))\n",
    "    elif kind(3,ranks) and kind(2,ranks):\n",
    "        # 8 8 8 7 7 => (6, 8, 7)\n",
    "        return (6, kind(3, ranks), kind(2, ranks))\n",
    "    elif flush(hand):\n",
    "        return (5, ranks)\n",
    "    elif straight(ranks):\n",
    "        return (4, max(ranks))\n",
    "    elif kind(3, ranks):\n",
    "        return (3, kind(3, ranks), ranks)\n",
    "    elif two_pair(ranks):\n",
    "        return (2, two_pair(ranks), ranks)\n",
    "    elif kind(2, ranks):\n",
    "        return (1, kind(2,ranks), ranks)\n",
    "    else:\n",
    "        return (0, ranks)\n",
    "\"\"\"\n",
    "One important principle of testing is to do extreme values\n",
    "\"\"\"\n",
    "def test():\n",
    "    \"Test cases for the function in poker program\"\n",
    "    # straight flush\n",
    "    sf = \"6C 7C 8C 9C TC\".split()\n",
    "    # four kind\n",
    "    fk = \"9D 9H 9S 9C 7D\".split()\n",
    "    # full house\n",
    "    fh = \"TD TC TH 7C 7D\".split()\n",
    "    # two pairs\n",
    "    tp = \"5S 5D 9H 9C 6S\".split()\n",
    "    fkranks = card_ranks(fk)\n",
    "    tpranks = card_ranks(tp)\n",
    "    \n",
    "    # add more test\n",
    "    # A-5 straight\n",
    "    s1 = \"AS 2S 3S 4S 5C\".split()\n",
    "    # 2-6 straight\n",
    "    s2 = \"2C 3C 4C 5S 6S\".split()\n",
    "    # A high\n",
    "    ah = \"AS 2S 3S 4s 6C\".split()\n",
    "    # 7 high\n",
    "    sh = \"2S 3S 4S 6C 7D\".split()\n",
    "    \n",
    "    #assert kind(n, ranks)\n",
    "    assert kind(4, fkranks) == 9\n",
    "    assert kind(3, fkranks) == None\n",
    "    assert kind(2, fkranks) == None\n",
    "    assert kind(1, fkranks) == 7\n",
    "    \n",
    "    #assert two_pair(ranks)\n",
    "    assert two_pair(fkranks) == None\n",
    "    assert two_pair(tpranks) == (9,5)\n",
    "    \n",
    "    #assert paker(hands)\n",
    "    assert poker([sf, fk, fh]) == [sf]\n",
    "    assert poker([fk, fh]) == [fk]\n",
    "    assert poker([fh, fh]) == [fh, fh]\n",
    "    assert poker([s1, s2, ah, sh]) == [s2]\n",
    "    \n",
    "    #a single hand\n",
    "    assert poker([sf]) == [sf]\n",
    "    assert poker([fk]) == [fk]\n",
    "    assert poker([fh]) == [fh]\n",
    "    \n",
    "    # test 100 hands\n",
    "    assert poker([sf] + 99 * [fh]) == [sf]\n",
    "    \n",
    "    #assert hand_rank\n",
    "    assert hand_ranks(sf) == (8, 10)\n",
    "    assert hand_ranks(fk) == (7, 9, 7)\n",
    "    assert hand_ranks(fh) == (6, 10, 7)\n",
    "    \n",
    "    #assert card_rank\n",
    "    assert card_ranks(sf) == [10, 9, 8, 7, 6]\n",
    "    assert card_ranks(fk) == [9, 9, 9, 9, 7]\n",
    "    assert card_ranks(fh) == [10, 10, 10, 7, 7]\n",
    "\n",
    "    #assert straight\n",
    "    assert straight([9, 8, 7, 6, 5]) == True\n",
    "    assert straight([9, 8, 8, 6 ,5]) == False\n",
    "    \n",
    "    #assert flush\n",
    "    assert flush(sf) == True\n",
    "    assert flush(fk) == False\n",
    "    \n",
    "    return \"test pass\"\n",
    "\n",
    "\n",
    "print(test())"
   ]
  },
  {
   "cell_type": "markdown",
   "metadata": {},
   "source": [
    "### handle ties"
   ]
  },
  {
   "cell_type": "code",
   "execution_count": 19,
   "metadata": {},
   "outputs": [
    {
     "data": {
      "text/plain": [
       "[['8S', 'AD', 'TC', '7S', 'AC'],\n",
       " ['7H', '2H', '8C', '3H', 'TD'],\n",
       " ['3C', '9H', '6C', 'KS', 'QS'],\n",
       " ['KD', '2D', '8H', '4H', '8D'],\n",
       " ['TS', 'QC', 'QH', 'JD', '6S'],\n",
       " ['QD', '5C', 'AS', '2S', 'KC'],\n",
       " ['9D', '9C', '5S', '6D', 'JS']]"
      ]
     },
     "execution_count": 19,
     "metadata": {},
     "output_type": "execute_result"
    }
   ],
   "source": [
    "import random\n",
    "\n",
    "def deal(numhands, n = 5,deck = [r + s for r in \"23456789TJQKA\" for s in \"SHDC\"]):\n",
    "    \"Shuffle the deck and deal out numhands n_card hands\"\n",
    "    random.shuffle(deck)\n",
    "    return [deck[n*i:n*(i+1)] for i in range(numhands)]\n",
    "\n",
    "deal(7,5)"
   ]
  },
  {
   "cell_type": "markdown",
   "metadata": {},
   "source": [
    "### Hand Frequencies "
   ]
  },
  {
   "cell_type": "code",
   "execution_count": 30,
   "metadata": {},
   "outputs": [
    {
     "name": "stdout",
     "output_type": "stream",
     "text": [
      "Straight Flush:   0.001%\n",
      "4 Kind        :   0.026%\n",
      "Full House    :   0.150%\n",
      "Flush         :   0.195%\n",
      "Straight      :   0.392%\n",
      "3 Kind        :   2.079%\n",
      "2 Pair        :   4.812%\n",
      "Pair          :  42.204%\n",
      "High Card     :  50.141%\n"
     ]
    }
   ],
   "source": [
    "hand_names = [\"Straight Flush\", \"4 Kind\", \"Full House\", \"Flush\", \n",
    "              \"Straight\", \"3 Kind\", \"2 Pair\", \"Pair\", \"High Card\"]\n",
    "def hand_percentage(n = 700*1000):\n",
    "    \"Sample n random hands and print out a table of percentages for each type of hand\"\n",
    "    counts = [0] * 9\n",
    "    for i in range(n//10):\n",
    "        for hand in deal(10):\n",
    "            ranking = hand_ranks(hand)[0]\n",
    "            counts[ranking] += 1\n",
    "    for i in reversed(range(9)):\n",
    "        print(\"{:<14}:{:>9.3%}\".format(hand_names[len(hand_names) - i -1], counts[i]/n))\n",
    "    \n",
    "hand_percentage()"
   ]
  },
  {
   "cell_type": "markdown",
   "metadata": {},
   "source": [
    "- correctness: the most important\n",
    "- efficiency: running speed\n",
    "- features: main work\n",
    "- elegance: not optional   simplicity,generality,clarity\n",
    "\n",
    "***The best is the enemy of the good***  \n",
    "*Learn to make good tradeoff*"
   ]
  },
  {
   "cell_type": "markdown",
   "metadata": {},
   "source": [
    "### Refactoring\n",
    "make the program more clearer and easier to maintain\n",
    "\n",
    "- Main Priciple  \n",
    "  - DRY: \"Don't repeat yourself\" group(\\[7, 10, 7, 9, 7\\]) -> count = (3,1,1),ranks = (7,10,9)"
   ]
  },
  {
   "cell_type": "code",
   "execution_count": 64,
   "metadata": {},
   "outputs": [
    {
     "data": {
      "text/plain": [
       "(8, (10, 9, 8, 7, 6))"
      ]
     },
     "execution_count": 64,
     "metadata": {},
     "output_type": "execute_result"
    }
   ],
   "source": [
    "def hand_ranks_refactor(hand):\n",
    "    \"Return a value indicating the ranking of a hand\"\n",
    "    groups = group(['--23456789TJQKA'.index(r) for r,s in hand])\n",
    "    counts, ranks = unzip(groups)\n",
    "    if ranks == (14, 5, 4, 3, 2):\n",
    "        ranks = (5, 4, 3, 2, 1)\n",
    "    straight = len(ranks) == 5 and max(ranks) - min(ranks) == 4 \n",
    "    flush = len(set([s for r,s in hand])) == 1\n",
    "    return (9 if (5,) == counts else\n",
    "            8 if straight and flush else\n",
    "            7 if (4,1) == counts else\n",
    "            6 if (3,2) == counts else\n",
    "            5 if flush else\n",
    "            4 if straight else\n",
    "            3 if (3,1,1) == counts else\n",
    "            2 if (2,2,1) == counts else\n",
    "            1 if (2,1,1,1) == counts else\n",
    "            0), ranks\n",
    "\n",
    "def group(items):\n",
    "    \"return a list of [(count, x)...], highest count first, then highest x first\"\n",
    "    groups = [(items.count(x), x) for x in set(items)]\n",
    "    return sorted(groups, reverse = True)\n",
    "#     print(groups)\n",
    "    \n",
    "def unzip(pairs):\n",
    "    # * represents accepting a tuple as a variable\n",
    "    return zip(*pairs)\n",
    "    \n",
    "hand_ranks_refactor(\"TD 9D 8D 7D 6D\".split())"
   ]
  },
  {
   "cell_type": "code",
   "execution_count": 68,
   "metadata": {},
   "outputs": [
    {
     "data": {
      "text/plain": [
       "(9, (10, 9, 8, 7, 6))"
      ]
     },
     "execution_count": 68,
     "metadata": {},
     "output_type": "execute_result"
    }
   ],
   "source": [
    "def hand_ranks_refactor_second(hand):\n",
    "    groups = group(['--23456789TJQKA'.index(r) for r,s in hand])\n",
    "    counts, ranks = unzip(groups)\n",
    "    if ranks == (14, 5, 4, 3, 2):\n",
    "        ranks = (5, 4, 3, 2, 1)\n",
    "    straight = len(ranks) == 5 and max(ranks) - min(ranks) == 4 \n",
    "    flush = len(set([s for r,s in hand])) == 1\n",
    "    return max(count_rankings[counts], 4*straight + 5 * flush), ranks\n",
    "\n",
    "count_rankings = {\n",
    "    (5,):10,\n",
    "    (4,1):7,\n",
    "    (3,2):6,\n",
    "    (3,1,1):3,\n",
    "    (2,2,1):2,\n",
    "    (2,1,1,1):1,\n",
    "    (1,1,1,1,1):0\n",
    "}\n",
    "\n",
    "hand_ranks_refactor_second(\"TD 9D 8D 7D 6D\".split())"
   ]
  },
  {
   "cell_type": "markdown",
   "metadata": {},
   "source": [
    "### Bonus Shuffing "
   ]
  },
  {
   "cell_type": "code",
   "execution_count": 79,
   "metadata": {},
   "outputs": [],
   "source": [
    "import random\n",
    "def shuffle(deck):\n",
    "    \"Teacher's algorithm\"\n",
    "    N = len(deck)\n",
    "    swapped = [False] * N\n",
    "    while not all(swapped):\n",
    "        i,j = random.randrange(N), random.randrange(N)\n",
    "        swapped[i] = swapped[j] = True\n",
    "        swap(deck, i, j)\n",
    "        \n",
    "def swap(deck, i, j):\n",
    "    \"swap elements i and j of a collection\"\n",
    "#     print('swap {} {}'.format(i,j))\n",
    "    deck[i], deck[j] = deck[j], deck[i]"
   ]
  },
  {
   "cell_type": "code",
   "execution_count": 80,
   "metadata": {},
   "outputs": [],
   "source": [
    "def shuffle_P(deck):\n",
    "    \"Knuth's Algorithm P\"  \n",
    "    N = len(deck)\n",
    "    for i in range(N -1):\n",
    "        swap(deck, i, random.randrange(i, N))"
   ]
  },
  {
   "cell_type": "code",
   "execution_count": 95,
   "metadata": {},
   "outputs": [
    {
     "name": "stdout",
     "output_type": "stream",
     "text": [
      "shuffle(abc) *** BAD ***\n",
      "abc    4.8%,acb   14.3%,bac   14.4%,bca   25.4%,cab   27.4%,cba   13.7%,\n",
      "\n",
      "shuffle_P(abc) ok\n",
      "abc   16.7%,acb   16.8%,bac   16.5%,bca   16.6%,cab   16.5%,cba   16.9%,\n",
      "\n",
      "shuffle(ab) *** BAD ***\n",
      "ab    16.7%,ba    83.3%,\n",
      "\n",
      "shuffle_P(ab) ok\n",
      "ab    50.0%,ba    50.0%,\n",
      "\n"
     ]
    }
   ],
   "source": [
    "from collections import defaultdict\n",
    "def test_shuffler(shuffler, deck = 'abcd', n = 10000):\n",
    "    counts = defaultdict(int)\n",
    "    for _ in range(n):\n",
    "        input = list(deck)\n",
    "        shuffler(input)\n",
    "        counts[''.join(input)] += 1\n",
    "    e = n/factorial(len(deck))\n",
    "    ok = all((0.9 <= counts[item]/e <= 1.1) for item in counts)\n",
    "    name = shuffler.__name__\n",
    "    print(\"{}({}) {}\".format(name, deck, 'ok' if ok else '*** BAD ***'))\n",
    "    for item,count in sorted(counts.items()):\n",
    "        print(\"{:<5}{:>6.1%}\".format(item, count/n), end = ',')\n",
    "    print()\n",
    "    print()\n",
    "        \n",
    "        \n",
    "def test_shufflers(shufflers = [shuffle, shuffle_P], decks = ['abc', 'ab']):\n",
    "    for deck in decks:\n",
    "        print\n",
    "        for f in shufflers:\n",
    "            test_shuffler(f,deck)\n",
    "            \n",
    "def factorial(n): return 1 if (n <= 1) else n*factorial(n-1)\n",
    "\n",
    "test_shufflers()\n",
    "        "
   ]
  },
  {
   "cell_type": "code",
   "execution_count": 73,
   "metadata": {},
   "outputs": [
    {
     "data": {
      "text/plain": [
       "['a', 'b', 'c', 'd']"
      ]
     },
     "execution_count": 73,
     "metadata": {},
     "output_type": "execute_result"
    }
   ],
   "source": [
    "list('abcd')"
   ]
  }
 ],
 "metadata": {
  "kernelspec": {
   "display_name": "Python 3",
   "language": "python",
   "name": "python3"
  },
  "language_info": {
   "codemirror_mode": {
    "name": "ipython",
    "version": 3
   },
   "file_extension": ".py",
   "mimetype": "text/x-python",
   "name": "python",
   "nbconvert_exporter": "python",
   "pygments_lexer": "ipython3",
   "version": "3.6.5"
  }
 },
 "nbformat": 4,
 "nbformat_minor": 2
}

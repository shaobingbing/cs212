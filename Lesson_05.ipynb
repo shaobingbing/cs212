{
 "cells": [
  {
   "cell_type": "markdown",
   "metadata": {},
   "source": [
    "## Uncertainty "
   ]
  },
  {
   "cell_type": "markdown",
   "metadata": {},
   "source": [
    "1. uncertain about the current state\n",
    "2. uncertain what the action will do"
   ]
  },
  {
   "cell_type": "markdown",
   "metadata": {},
   "source": [
    "### Porcine Probability "
   ]
  },
  {
   "cell_type": "code",
   "execution_count": 29,
   "metadata": {},
   "outputs": [
    {
     "name": "stdout",
     "output_type": "stream",
     "text": [
      "tests pass\n"
     ]
    }
   ],
   "source": [
    "from collections import namedtuple\n",
    "import random\n",
    "\n",
    "# --------------------------Pig out----------------------------\n",
    "# high level concept\n",
    "# play-pig: fun(A, B) -> A\n",
    "#   - keep scores\n",
    "#   - take turns\n",
    "#   - call strategy -> action\n",
    "#   - do action -> {state}\n",
    "#   - roll die, + action -> action\n",
    "# strategy: fun(state) -> action\n",
    "#\n",
    "# middle level concept: \n",
    "# (1) current state: scores, pending, players,\n",
    "# (2) actions we can take take: Roll/Hold\n",
    "#         action: using string 'roll'/'state'\n",
    "#         roll(state) -> {states}/ hold(state) -> state\n",
    "#         roll(state, D) -> state //D -> one of {1,2,3,4,5,6} \n",
    "#\n",
    "# low level concept\n",
    "# (1) the roll of a die: integer\n",
    "# (2) the implementation of scores: integer\n",
    "# (3) the implementation of the players and the players to move\n",
    "#       move: 0/1   players: strategy     \n",
    "# (4) the goal: integer\n",
    "#\n",
    "# States are represented as a tuple of (p, me, you, pending) where\n",
    "# p:       an int, 0 or 1, indicating which player's turn it is.\n",
    "# me:      an int, the player-to-move's current score\n",
    "# you:     an int, the other player's current score.\n",
    "# pending: an int, the number of points accumulated on current \n",
    "# turn, not yet scored\n",
    "# ---------------------------------------------------------------\n",
    "\n",
    "# -----------------------------tools-----------------------------\n",
    "# nametuple:\n",
    "#     from collections import namedtuple\n",
    "#     State = namedtuple('state', 'p me you pending')\n",
    "#     s = State(1,2,3,4)\n",
    "#     s.p => 1, s.me => 2, s.you => 3, s.pending => 4\n",
    "#\n",
    "# ---------------------------------------------------------------\n",
    "\n",
    "# State = namedtuple('State', 'p me you pending')\n",
    "other = {1:0, 0:1}                          # mapping from player to other player\n",
    "possible_moves = ['roll', 'hold']\n",
    "goal = 50\n",
    "\n",
    "def hold(state):\n",
    "    \"\"\"Apply the hold action to a state to yield a new state:\n",
    "    Reap the 'pending' points and it becomes the other player's turn.\"\"\"\n",
    "    (p, me, you, pending) = state\n",
    "    return (other[p], you, me + pending, 0)\n",
    "#     return State(other[state.p], state.you, state.me + state.pending, 0)\n",
    "\n",
    "def roll(state, d):\n",
    "    \"\"\"Apply the roll action to a state (and a die roll d) to yield a new state:\n",
    "    If d is 1, get 1 point (losing any accumulated 'pending' points),\n",
    "    and it is the other player's turn. If d > 1, add d to 'pending' points.\"\"\"\n",
    "    (p, me, you, pending) = state\n",
    "    if  d == 1:\n",
    "        return (other[p], you, me + 1, 0)   # pig out; other player's turn\n",
    "#         return State(other[state.p], state.you, state.me + 1, 0)\n",
    "    else:\n",
    "        return (p, me, you, pending + d)    # accumulate die roll in pending\n",
    "#         return State(other[state.p], state.me, state.you, state.pending + d)\n",
    "\n",
    "\n",
    "def hold_at(x):\n",
    "    \"\"\"Return a strategy that holds if and only if \n",
    "    pending >= x or player reaches goal.\"\"\"\n",
    "    def strategy(state):\n",
    "        (p, me, you, pending) = state\n",
    "        return 'hold' if (pending >= x or me + pending >= goal) else 'roll'\n",
    "    strategy.__name__ = 'hold_at(%d)' % x\n",
    "    return strategy\n",
    "\n",
    "def clueless(state):\n",
    "    \"A strategy that ignores the state and chooses at random from possible moves.\"\n",
    "    return random.choice(possible_moves)\n",
    "\n",
    "def dierolls():\n",
    "    \"Generator die rolls\"\n",
    "    while True:\n",
    "        yield random.randint(1,6)\n",
    "\n",
    "def play_pig(A, B, dierolls = dierolls()):\n",
    "    \"\"\"Play a game of pig between two players, represented by their strategies.\n",
    "    Each time through the main loop we ask the current player for one decision,\n",
    "    which must be 'hold' or 'roll', and we update the state accordingly.\n",
    "    When one player's score exceeds the goal, return that player.\"\"\"\n",
    "    strategies = [A, B]\n",
    "    state = (0, 0, 0, 0)\n",
    "    while True:\n",
    "        (p, me, you, pending) = state\n",
    "        if me >= goal :\n",
    "            return strategies[p]\n",
    "        elif you >= goal:\n",
    "            return strategies[other[p]]\n",
    "        elif strategies[p](state) == 'hold':\n",
    "            state = hold(state)\n",
    "        else:\n",
    "            state = roll(state, next(dierolls))\n",
    "\n",
    "def always_roll(state):\n",
    "    return 'roll'\n",
    "\n",
    "def always_hold(state):\n",
    "    return 'hold'\n",
    "    \n",
    "def test():    \n",
    "    assert hold((1, 10, 20, 7))    == (0, 20, 17, 0)\n",
    "    assert hold((0, 5, 15, 10))    == (1, 15, 15, 0)\n",
    "    \n",
    "    assert roll((1, 10, 20, 7), 1) == (0, 20, 11, 0)\n",
    "    assert roll((0, 5, 15, 10), 5) == (0, 5, 15, 15)\n",
    "    \n",
    "    assert hold_at(30)((1, 29, 15, 20)) == 'roll'\n",
    "    assert hold_at(30)((1, 29, 15, 21)) == 'hold'\n",
    "    assert hold_at(15)((0, 2, 30, 10))  == 'roll'\n",
    "    assert hold_at(15)((0, 2, 30, 15))  == 'hold'\n",
    "    \n",
    "    A, B = hold_at(50), clueless\n",
    "    rolls = iter([6, 6, 6, 6, 6, 6, 6, 6, 2])\n",
    "    assert play_pig(A, B, rolls) == A\n",
    "        \n",
    "    return 'tests pass'\n",
    "\n",
    "print (test())"
   ]
  },
  {
   "cell_type": "code",
   "execution_count": 19,
   "metadata": {},
   "outputs": [
    {
     "data": {
      "text/plain": [
       "1"
      ]
     },
     "execution_count": 19,
     "metadata": {},
     "output_type": "execute_result"
    }
   ],
   "source": [
    "from collections import namedtuple\n",
    "State = namedtuple('State', 'p me you pending')\n",
    "s = State(1,2,3,4)\n",
    "s.p"
   ]
  }
 ],
 "metadata": {
  "kernelspec": {
   "display_name": "Python 3",
   "language": "python",
   "name": "python3"
  },
  "language_info": {
   "codemirror_mode": {
    "name": "ipython",
    "version": 3
   },
   "file_extension": ".py",
   "mimetype": "text/x-python",
   "name": "python",
   "nbconvert_exporter": "python",
   "pygments_lexer": "ipython3",
   "version": "3.6.5"
  }
 },
 "nbformat": 4,
 "nbformat_minor": 2
}

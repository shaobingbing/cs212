{
 "cells": [
  {
   "cell_type": "markdown",
   "metadata": {},
   "source": [
    "### Water Pouring Problem "
   ]
  },
  {
   "cell_type": "code",
   "execution_count": 3,
   "metadata": {},
   "outputs": [],
   "source": [
    "# ---------------------------------------\n",
    "# glass: capacity, current level\n",
    "# a pair of glass:\n",
    "# goal: try to reach\n",
    "# pouring actions: empty, fill, transfer\n",
    "# solution: sequences of actions\n",
    "#\n",
    "# successor: a collection of states that you can reach\n",
    "# ---------------------------------------\n",
    "def pour_problem(X, Y, goal, start = (0, 0)):\n",
    "        \"\"\"X and Y are thr capacity of glasses; (x, y) is current fill levels\n",
    "        and represents a state. The goal is a level that can be in either glass.\n",
    "        Start at start state and following successors until we reach the goal.\n",
    "        Keep track of frontier and previously explored; fail when no frontier.\"\"\"\n",
    "        if goal is start:\n",
    "            return [start]\n",
    "        explored = set() # set of states we have visited\n",
    "        frontier = [ [ start] ] # ordered list of paths we have blazed\n",
    "        while frontier:\n",
    "            path = frontier.pop(0)\n",
    "            (x, y) = path[-1] # last state in the first path of the frontier\n",
    "            for (state, action) in successors(x, y, X, Y).items():\n",
    "                if state not in explored:\n",
    "                    explored.append(state) \n",
    "                    path2 = path + [action, state]\n",
    "                    if goal is state:\n",
    "                        return path2\n",
    "                    else:\n",
    "                        frontier.append(path2)\n",
    "        return Fail\n",
    "\n",
    "def successors(x, y, X, Y):\n",
    "    \"\"\"Return a dict of {state: action} pairs describing what can be reached from the (x, y)\n",
    "    state, and how.\"\"\"\n",
    "    assert x <= X and y <= Y ##(x, y) is glass level; X and Y are glass sizes\n",
    "    return {((0, y + x) if y + x <= Y else(x - (Y - y), y + (Y - y))): 'X --> Y',\n",
    "            ((x + y, 0) if y + x <= X else(x + (X - x), y - (X - x))): 'X <-- Y',\n",
    "            (X, y): 'fill X', (x, Y): 'fill Y',\n",
    "            (0, y): 'empty X', (x, 0): 'empty Y'}\n",
    "    \n",
    "Fail = []"
   ]
  },
  {
   "cell_type": "code",
   "execution_count": 4,
   "metadata": {},
   "outputs": [],
   "source": [
    "import doctest  "
   ]
  },
  {
   "cell_type": "markdown",
   "metadata": {},
   "source": [
    "### Bridge Problem "
   ]
  },
  {
   "cell_type": "code",
   "execution_count": 8,
   "metadata": {},
   "outputs": [
    {
     "name": "stdout",
     "output_type": "stream",
     "text": [
      "tests pass\n"
     ]
    }
   ],
   "source": [
    "#--------------------------------------\n",
    "# people: 4 \n",
    "# speed: 1min, 2min, 5min, 10min\n",
    "# The bridge only can across two people one time\n",
    "# collection of people: here, there\n",
    "# tool: torch or the light\n",
    "# state: (here, there, t)\n",
    "#--------------------------------------\n",
    "\n",
    "# -----------------\n",
    "# User Instructions\n",
    "# \n",
    "# Write a function, bsuccessors(state), that takes a state as input\n",
    "# and returns a dictionary of {state:action} pairs.\n",
    "#\n",
    "# A state is a (here, there, t) tuple, where here and there are \n",
    "# frozensets of people (indicated by their times), and potentially\n",
    "# the 'light,' t is a number indicating the elapsed time.\n",
    "#\n",
    "# An action is a tuple (person1, person2, arrow), where arrow is \n",
    "# '->' for here to there or '<-' for there to here. When only one \n",
    "# person crosses, person2 will be the same as person one, so the\n",
    "# action (2, 2, '->') means that the person with a travel time of\n",
    "# 2 crossed from here to there alone.\n",
    "\n",
    "def bsuccessors(state):\n",
    "    \"\"\"Return a dict of {state:action} pairs. A state is a (here, there, t) tuple,\n",
    "    where here and there are frozensets of people (indicated by their times) and/or\n",
    "    the 'light', and t is a number indicating the elapsed time. Action is represented\n",
    "    as a tuple (person1, person2, arrow), where arrow is '->' for here to there and \n",
    "    '<-' for there to here.\"\"\"\n",
    "    here, there, t = state\n",
    "    if 'light' in here:\n",
    "        return dict(((here - frozenset([a, b, 'light']),\n",
    "                      there | frozenset([a, b, 'light']),\n",
    "                      t + max(a,b)), (a, b, '->'))\n",
    "                    for a in here if a is not 'light'\n",
    "                    for b in here if b is not 'light')\n",
    "    else:\n",
    "        return dict(((here | frozenset([a, b, 'light']),\n",
    "                      there - frozenset([a, b, 'light']),\n",
    "                      t + max(a,b)), (a, b, '<-'))\n",
    "                    for a in there if a is not 'light'\n",
    "                    for b in there if b is not 'light')\n",
    "\n",
    "def test():\n",
    "\n",
    "    assert bsuccessors((frozenset([1, 'light']), frozenset([]), 3)) == {\n",
    "                (frozenset([]), frozenset([1, 'light']), 4): (1, 1, '->')}\n",
    "\n",
    "    assert bsuccessors((frozenset([]), frozenset([2, 'light']), 0)) =={\n",
    "                (frozenset([2, 'light']), frozenset([]), 2): (2, 2, '<-')}\n",
    "    \n",
    "    return 'tests pass'\n",
    "\n",
    "print (test())\n"
   ]
  },
  {
   "cell_type": "code",
   "execution_count": null,
   "metadata": {},
   "outputs": [],
   "source": []
  }
 ],
 "metadata": {
  "kernelspec": {
   "display_name": "Python 3",
   "language": "python",
   "name": "python3"
  },
  "language_info": {
   "codemirror_mode": {
    "name": "ipython",
    "version": 3
   },
   "file_extension": ".py",
   "mimetype": "text/x-python",
   "name": "python",
   "nbconvert_exporter": "python",
   "pygments_lexer": "ipython3",
   "version": "3.6.5"
  }
 },
 "nbformat": 4,
 "nbformat_minor": 2
}

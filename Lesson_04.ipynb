{
 "cells": [
  {
   "cell_type": "markdown",
   "metadata": {},
   "source": [
    "### Water Pouring Problem "
   ]
  },
  {
   "cell_type": "code",
   "execution_count": 3,
   "metadata": {},
   "outputs": [],
   "source": [
    "# ---------------------------------------\n",
    "# glass: capacity, current level\n",
    "# a pair of glass:\n",
    "# goal: try to reach\n",
    "# pouring actions: empty, fill, transfer\n",
    "# solution: sequences of actions\n",
    "#\n",
    "# successor: a collection of states that you can reach\n",
    "# ---------------------------------------\n",
    "def pour_problem(X, Y, goal, start = (0, 0)):\n",
    "        \"\"\"X and Y are thr capacity of glasses; (x, y) is current fill levels\n",
    "        and represents a state. The goal is a level that can be in either glass.\n",
    "        Start at start state and following successors until we reach the goal.\n",
    "        Keep track of frontier and previously explored; fail when no frontier.\"\"\"\n",
    "        if goal is start:\n",
    "            return [start]\n",
    "        explored = set() # set of states we have visited\n",
    "        frontier = [ [ start] ] # ordered list of paths we have blazed\n",
    "        while frontier:\n",
    "            path = frontier.pop(0)\n",
    "            (x, y) = path[-1] # last state in the first path of the frontier\n",
    "            for (state, action) in successors(x, y, X, Y).items():\n",
    "                if state not in explored:\n",
    "                    explored.append(state) \n",
    "                    path2 = path + [action, state]\n",
    "                    if goal is state:\n",
    "                        return path2\n",
    "                    else:\n",
    "                        frontier.append(path2)\n",
    "        return Fail\n",
    "\n",
    "def successors(x, y, X, Y):\n",
    "    \"\"\"Return a dict of {state: action} pairs describing what can be reached from the (x, y)\n",
    "    state, and how.\"\"\"\n",
    "    assert x <= X and y <= Y ##(x, y) is glass level; X and Y are glass sizes\n",
    "    return {((0, y + x) if y + x <= Y else(x - (Y - y), y + (Y - y))): 'X --> Y',\n",
    "            ((x + y, 0) if y + x <= X else(x + (X - x), y - (X - x))): 'X <-- Y',\n",
    "            (X, y): 'fill X', (x, Y): 'fill Y',\n",
    "            (0, y): 'empty X', (x, 0): 'empty Y'}\n",
    "    \n",
    "Fail = []"
   ]
  },
  {
   "cell_type": "code",
   "execution_count": 4,
   "metadata": {},
   "outputs": [],
   "source": [
    "import doctest  "
   ]
  },
  {
   "cell_type": "markdown",
   "metadata": {},
   "source": [
    "### Bridge Problem "
   ]
  },
  {
   "cell_type": "code",
   "execution_count": null,
   "metadata": {},
   "outputs": [],
   "source": [
    "#--------------------------------------\n",
    "# people: 4 \n",
    "# speed: 1min, 2min, 5min, 10min\n",
    "# The bridge only can across two people one time\n",
    "# collection of people: here, there\n",
    "# tool: torch or the light\n",
    "# \n",
    "#--------------------------------------\n"
   ]
  }
 ],
 "metadata": {
  "kernelspec": {
   "display_name": "Python 3",
   "language": "python",
   "name": "python3"
  },
  "language_info": {
   "codemirror_mode": {
    "name": "ipython",
    "version": 3
   },
   "file_extension": ".py",
   "mimetype": "text/x-python",
   "name": "python",
   "nbconvert_exporter": "python",
   "pygments_lexer": "ipython3",
   "version": "3.6.5"
  }
 },
 "nbformat": 4,
 "nbformat_minor": 2
}

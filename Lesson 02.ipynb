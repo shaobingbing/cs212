{
 "cells": [
  {
   "cell_type": "markdown",
   "metadata": {},
   "source": [
    "***Lazy is a virtue***"
   ]
  },
  {
   "cell_type": "code",
   "execution_count": 2,
   "metadata": {},
   "outputs": [
    {
     "data": {
      "text/plain": [
       "\"\\nSee: http://en.wikipedia.org/wiki/Zebra_Puzzle\\n\\n1  'There are five houses.'\\n2  'The Englishman lives in the red house.'\\n3  'The Spaniard owns the dog.'\\n4  'Coffee is drunk in the green house.'\\n5  'The Ukrainian drinks tea.'\\n6  'The green house is immediately to the right of the ivory house.'\\n7  'The Old Gold smoker owns snails.'\\n8  'Kools are smoked in the yellow house.'\\n9  'Milk is drunk in the middle house.'\\n10 'The Norwegian lives in the first house.'\\n11 'The man who smokes Chesterfields lives in the house next to the man with the fox.'\\n12 'Kools are smoked in the house next to the house where the horse is kept.'\\n13 'The Lucky Strike smoker drinks orange juice.'\\n14 'The Japanese smokes Parliaments.'\\n15 'The Norwegian lives next to the blue house.'\\n\\nNow, who drinks water? Who owns the zebra?\\n\\nIn the interest of clarity, it must be added that each of the five houses is painted a different color,\\nand their inhabitants are of different national extractions, own different pets, drink different beverages \\nand smoke different brands of American cigarets [sic]. One other thing: in statement 6, right means your right.\\n\""
      ]
     },
     "execution_count": 2,
     "metadata": {},
     "output_type": "execute_result"
    }
   ],
   "source": [
    "\"\"\"\n",
    "See: http://en.wikipedia.org/wiki/Zebra_Puzzle\n",
    "\n",
    "1  'There are five houses.'\n",
    "2  'The Englishman lives in the red house.'\n",
    "3  'The Spaniard owns the dog.'\n",
    "4  'Coffee is drunk in the green house.'\n",
    "5  'The Ukrainian drinks tea.'\n",
    "6  'The green house is immediately to the right of the ivory house.'\n",
    "7  'The Old Gold smoker owns snails.'\n",
    "8  'Kools are smoked in the yellow house.'\n",
    "9  'Milk is drunk in the middle house.'\n",
    "10 'The Norwegian lives in the first house.'\n",
    "11 'The man who smokes Chesterfields lives in the house next to the man with the fox.'\n",
    "12 'Kools are smoked in the house next to the house where the horse is kept.'\n",
    "13 'The Lucky Strike smoker drinks orange juice.'\n",
    "14 'The Japanese smokes Parliaments.'\n",
    "15 'The Norwegian lives next to the blue house.'\n",
    "\n",
    "Now, who drinks water? Who owns the zebra?\n",
    "\n",
    "In the interest of clarity, it must be added that each of the five houses is painted a different color,\n",
    "and their inhabitants are of different national extractions, own different pets, drink different beverages \n",
    "and smoke different brands of American cigarets [sic]. One other thing: in statement 6, right means your right.\n",
    "\"\"\""
   ]
  },
  {
   "cell_type": "markdown",
   "metadata": {},
   "source": [
    "***Question 01: Do we need to seperate out the different types of assigment?***  \n",
    "\n",
    "***Question 02: Are we missing this idea of property name with a description attached?***  \n",
    "  \n",
    "Method: try all possibility"
   ]
  },
  {
   "cell_type": "code",
   "execution_count": 6,
   "metadata": {},
   "outputs": [],
   "source": [
    "import itertools\n",
    "\n",
    "houses = [1, 2, 3, 4, 5]\n",
    "\n",
    "def imright(h1, h2):\n",
    "    \"House h1 is immediately right of h2 if h1 - h2 == 1\"\n",
    "    return h1 - h2 ==1\n",
    "\n",
    "def nextto(h1, h2):\n",
    "    \"Two houses are next to each other if they differ by 1\"\n",
    "    return abs(h1 - h2) == 1"
   ]
  },
  {
   "cell_type": "code",
   "execution_count": 8,
   "metadata": {},
   "outputs": [],
   "source": [
    "## generator expression: the computation doesn.t get done all at once\n",
    "## parthness means generator, bracket means list\n",
    "\n",
    "def sq(x): \n",
    "    print ('sq called {}'.format(x))\n",
    "    return x * x\n",
    "\n",
    "g = (sq(x) for x in range(10) if x%2 == 0)"
   ]
  },
  {
   "cell_type": "code",
   "execution_count": 20,
   "metadata": {},
   "outputs": [
    {
     "name": "stdout",
     "output_type": "stream",
     "text": [
      "sq called 0\n",
      "sq called 2\n",
      "sq called 4\n",
      "sq called 6\n",
      "sq called 8\n"
     ]
    }
   ],
   "source": [
    "for x2 in (sq(x) for x in range(10) if x%2 == 0): pass"
   ]
  },
  {
   "cell_type": "code",
   "execution_count": 54,
   "metadata": {},
   "outputs": [],
   "source": [
    "def zabra_puzza():\n",
    "    houses = [first, _, middle, _, _] = [1, 2, 3, 4, 5]\n",
    "    orderings = list(itertools.permutations(houses))\n",
    "    return next((WATER,ZEBRA)\n",
    "                for (red, green, ivory, yellow, blue) in c(orderings)\n",
    "                if imright(green, ivory)    # 6\n",
    "                for (Englishman, Spaniard, Ukranian, Japanese, Norwegian) in c(orderings)\n",
    "                if Englishman is red        # 2\n",
    "                if Norwegian is first       # 10\n",
    "                if nextto(Norwegian, blue)  # 15\n",
    "                for (coffee, tea, milk, oj, WATER) in c(orderings)\n",
    "                if coffee is green          # 4\n",
    "                if Ukranian is tea          # 5\n",
    "                if milk is middle           # 9\n",
    "                for (OldGold, Kools, Chesterfields, LuckyStride, Parliaments) in c(orderings)\n",
    "                if Kools is yellow          # 8\n",
    "                if LuckyStride is oj        # 13\n",
    "                if Japanese is Parliaments  # 14\n",
    "                for (dog, snails, fox, horse, ZEBRA) in c(orderings)\n",
    "                if Spaniard is dog          # 3\n",
    "                if OldGold is snails           # 7\n",
    "                if nextto(Chesterfields, fox) #11\n",
    "                if nextto(Kools, horse)     #12\n",
    "               )"
   ]
  },
  {
   "cell_type": "code",
   "execution_count": 27,
   "metadata": {},
   "outputs": [
    {
     "name": "stdout",
     "output_type": "stream",
     "text": [
      "(1, 5)\n"
     ]
    }
   ],
   "source": [
    "print(zabra_puzza())"
   ]
  },
  {
   "cell_type": "code",
   "execution_count": 29,
   "metadata": {},
   "outputs": [],
   "source": [
    "import time \n",
    "\n",
    "def timecall(fn, *args): # *args means any number of arguments\n",
    "    \"Call function with args; return the time in seconds and result\"\n",
    "    t0 = time.clock()\n",
    "    result = fn(*args)\n",
    "    t1 = time.clock()\n",
    "    return t1 - t0, result"
   ]
  },
  {
   "cell_type": "code",
   "execution_count": 32,
   "metadata": {},
   "outputs": [],
   "source": [
    "def timecalls(n, fn, *args):\n",
    "#     \"Call function n times with atgs; return the min, avg, and max time.\"\n",
    "    \"\"\"Call fn(*args) repeatedly: n times if n is an int, or up to n seconds if n is a float;\n",
    "    return the min, avg, and the max time\n",
    "    \"\"\"\n",
    "#     times = [timecall(fn, *args)[0] for _ in range(n)]\n",
    "    if isinstance(n ,int):\n",
    "        times = [timecall(fn, *args)[0] for _ in range(n)]\n",
    "    else:\n",
    "        times = []\n",
    "        while sum(times) < n:\n",
    "            times.append(timecall(fn, *args)[0])\n",
    "    return min(times), average(times), max(times)\n",
    "\n",
    "def average(numbers):\n",
    "    \"Return the average (arithemtic mean) of a sequence of numbers\"\n",
    "    return sum(numbers) / float(len(numbers))"
   ]
  },
  {
   "cell_type": "markdown",
   "metadata": {},
   "source": [
    "### aspect-oriented programming\n",
    "- Correct\n",
    "- efficient\n",
    "- debugging  \n"
   ]
  },
  {
   "cell_type": "code",
   "execution_count": 60,
   "metadata": {},
   "outputs": [],
   "source": [
    "def instrument_fn(fn ,*args):\n",
    "    c.start, c.items = 0, 0\n",
    "    result = fn(*args)\n",
    "    print(\"{} fot {} with {:>5d} iters over {:>7d} items\".format(fn.__name__, result, c.starts, c.items) )"
   ]
  },
  {
   "cell_type": "code",
   "execution_count": 50,
   "metadata": {},
   "outputs": [],
   "source": [
    "# generator function\n",
    "def ints(start, end = None):\n",
    "    i = start\n",
    "    while i < end or end is None:\n",
    "        yield i\n",
    "        i = i + 1"
   ]
  },
  {
   "cell_type": "code",
   "execution_count": 53,
   "metadata": {},
   "outputs": [],
   "source": [
    "def all_ints():\n",
    "    \"Generate integers in the order 0, +1, -1, +2, -2, +3, -3\"\n",
    "    yield 0\n",
    "    i = 1\n",
    "    while True:\n",
    "        yield +i\n",
    "        yield -i\n",
    "        i = i + 1"
   ]
  },
  {
   "cell_type": "code",
   "execution_count": 57,
   "metadata": {},
   "outputs": [],
   "source": [
    "def c(sequence):\n",
    "    \"\"\"Generate item in sequence; keeping counts as we go. c.start is the number of sequence started;\n",
    "    c.items is the number of items generated\"\"\"\n",
    "    c.start += 1\n",
    "    for item in sequence:\n",
    "        c.items += 1\n",
    "        yield item"
   ]
  },
  {
   "cell_type": "code",
   "execution_count": 61,
   "metadata": {},
   "outputs": [
    {
     "ename": "AttributeError",
     "evalue": "'function' object has no attribute 'starts'",
     "output_type": "error",
     "traceback": [
      "\u001b[0;31m---------------------------------------------------------------------------\u001b[0m",
      "\u001b[0;31mAttributeError\u001b[0m                            Traceback (most recent call last)",
      "\u001b[0;32m<ipython-input-61-904cf2d98871>\u001b[0m in \u001b[0;36m<module>\u001b[0;34m()\u001b[0m\n\u001b[0;32m----> 1\u001b[0;31m \u001b[0minstrument_fn\u001b[0m\u001b[0;34m(\u001b[0m\u001b[0mzabra_puzza\u001b[0m\u001b[0;34m)\u001b[0m\u001b[0;34m\u001b[0m\u001b[0m\n\u001b[0m",
      "\u001b[0;32m<ipython-input-60-86adc54bfb0a>\u001b[0m in \u001b[0;36minstrument_fn\u001b[0;34m(fn, *args)\u001b[0m\n\u001b[1;32m      2\u001b[0m     \u001b[0mc\u001b[0m\u001b[0;34m.\u001b[0m\u001b[0mstart\u001b[0m\u001b[0;34m,\u001b[0m \u001b[0mc\u001b[0m\u001b[0;34m.\u001b[0m\u001b[0mitems\u001b[0m \u001b[0;34m=\u001b[0m \u001b[0;36m0\u001b[0m\u001b[0;34m,\u001b[0m \u001b[0;36m0\u001b[0m\u001b[0;34m\u001b[0m\u001b[0m\n\u001b[1;32m      3\u001b[0m     \u001b[0mresult\u001b[0m \u001b[0;34m=\u001b[0m \u001b[0mfn\u001b[0m\u001b[0;34m(\u001b[0m\u001b[0;34m*\u001b[0m\u001b[0margs\u001b[0m\u001b[0;34m)\u001b[0m\u001b[0;34m\u001b[0m\u001b[0m\n\u001b[0;32m----> 4\u001b[0;31m     \u001b[0mprint\u001b[0m\u001b[0;34m(\u001b[0m\u001b[0;34m\"{} fot {} with {:>5d} iters over {:>7d} items\"\u001b[0m\u001b[0;34m.\u001b[0m\u001b[0mformat\u001b[0m\u001b[0;34m(\u001b[0m\u001b[0mfn\u001b[0m\u001b[0;34m.\u001b[0m\u001b[0m__name__\u001b[0m\u001b[0;34m,\u001b[0m \u001b[0mresult\u001b[0m\u001b[0;34m,\u001b[0m \u001b[0mc\u001b[0m\u001b[0;34m.\u001b[0m\u001b[0mstarts\u001b[0m\u001b[0;34m,\u001b[0m \u001b[0mc\u001b[0m\u001b[0;34m.\u001b[0m\u001b[0mitems\u001b[0m\u001b[0;34m)\u001b[0m \u001b[0;34m)\u001b[0m\u001b[0;34m\u001b[0m\u001b[0m\n\u001b[0m",
      "\u001b[0;31mAttributeError\u001b[0m: 'function' object has no attribute 'starts'"
     ]
    }
   ],
   "source": [
    "instrument_fn(zabra_puzza)"
   ]
  }
 ],
 "metadata": {
  "kernelspec": {
   "display_name": "Python 3",
   "language": "python",
   "name": "python3"
  },
  "language_info": {
   "codemirror_mode": {
    "name": "ipython",
    "version": 3
   },
   "file_extension": ".py",
   "mimetype": "text/x-python",
   "name": "python",
   "nbconvert_exporter": "python",
   "pygments_lexer": "ipython3",
   "version": "3.6.5"
  }
 },
 "nbformat": 4,
 "nbformat_minor": 2
}

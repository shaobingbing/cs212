{
 "cells": [
  {
   "cell_type": "markdown",
   "metadata": {},
   "source": [
    "***Lazy is a virtue***"
   ]
  },
  {
   "cell_type": "code",
   "execution_count": 2,
   "metadata": {},
   "outputs": [
    {
     "data": {
      "text/plain": [
       "\"\\nSee: http://en.wikipedia.org/wiki/Zebra_Puzzle\\n\\n1  'There are five houses.'\\n2  'The Englishman lives in the red house.'\\n3  'The Spaniard owns the dog.'\\n4  'Coffee is drunk in the green house.'\\n5  'The Ukrainian drinks tea.'\\n6  'The green house is immediately to the right of the ivory house.'\\n7  'The Old Gold smoker owns snails.'\\n8  'Kools are smoked in the yellow house.'\\n9  'Milk is drunk in the middle house.'\\n10 'The Norwegian lives in the first house.'\\n11 'The man who smokes Chesterfields lives in the house next to the man with the fox.'\\n12 'Kools are smoked in the house next to the house where the horse is kept.'\\n13 'The Lucky Strike smoker drinks orange juice.'\\n14 'The Japanese smokes Parliaments.'\\n15 'The Norwegian lives next to the blue house.'\\n\\nNow, who drinks water? Who owns the zebra?\\n\\nIn the interest of clarity, it must be added that each of the five houses is painted a different color,\\nand their inhabitants are of different national extractions, own different pets, drink different beverages \\nand smoke different brands of American cigarets [sic]. One other thing: in statement 6, right means your right.\\n\""
      ]
     },
     "execution_count": 2,
     "metadata": {},
     "output_type": "execute_result"
    }
   ],
   "source": [
    "\"\"\"\n",
    "See: http://en.wikipedia.org/wiki/Zebra_Puzzle\n",
    "\n",
    "1  'There are five houses.'\n",
    "2  'The Englishman lives in the red house.'\n",
    "3  'The Spaniard owns the dog.'\n",
    "4  'Coffee is drunk in the green house.'\n",
    "5  'The Ukrainian drinks tea.'\n",
    "6  'The green house is immediately to the right of the ivory house.'\n",
    "7  'The Old Gold smoker owns snails.'\n",
    "8  'Kools are smoked in the yellow house.'\n",
    "9  'Milk is drunk in the middle house.'\n",
    "10 'The Norwegian lives in the first house.'\n",
    "11 'The man who smokes Chesterfields lives in the house next to the man with the fox.'\n",
    "12 'Kools are smoked in the house next to the house where the horse is kept.'\n",
    "13 'The Lucky Strike smoker drinks orange juice.'\n",
    "14 'The Japanese smokes Parliaments.'\n",
    "15 'The Norwegian lives next to the blue house.'\n",
    "\n",
    "Now, who drinks water? Who owns the zebra?\n",
    "\n",
    "In the interest of clarity, it must be added that each of the five houses is painted a different color,\n",
    "and their inhabitants are of different national extractions, own different pets, drink different beverages \n",
    "and smoke different brands of American cigarets [sic]. One other thing: in statement 6, right means your right.\n",
    "\"\"\""
   ]
  },
  {
   "cell_type": "markdown",
   "metadata": {},
   "source": [
    "***Question 01: Do we need to seperate out the different types of assigment?***  \n",
    "\n",
    "***Question 02: Are we missing this idea of property name with a description attached?***  \n",
    "  \n",
    "Method: try all possibility"
   ]
  },
  {
   "cell_type": "code",
   "execution_count": 6,
   "metadata": {},
   "outputs": [],
   "source": [
    "import itertools\n",
    "\n",
    "houses = [1, 2, 3, 4, 5]\n",
    "\n",
    "def imright(h1, h2):\n",
    "    \"House h1 is immediately right of h2 if h1 - h2 == 1\"\n",
    "    return h1 - h2 ==1\n",
    "\n",
    "def nextto(h1, h2):\n",
    "    \"Two houses are next to each other if they differ by 1\"\n",
    "    return abs(h1 - h2) == 1"
   ]
  },
  {
   "cell_type": "code",
   "execution_count": 8,
   "metadata": {},
   "outputs": [],
   "source": [
    "## generator expression: the computation doesn.t get done all at once\n",
    "## parthness means generator, bracket means list\n",
    "\n",
    "def sq(x): \n",
    "    print ('sq called {}'.format(x))\n",
    "    return x * x\n",
    "\n",
    "g = (sq(x) for x in range(10) if x%2 == 0)"
   ]
  },
  {
   "cell_type": "code",
   "execution_count": 20,
   "metadata": {},
   "outputs": [
    {
     "name": "stdout",
     "output_type": "stream",
     "text": [
      "sq called 0\n",
      "sq called 2\n",
      "sq called 4\n",
      "sq called 6\n",
      "sq called 8\n"
     ]
    }
   ],
   "source": [
    "for x2 in (sq(x) for x in range(10) if x%2 == 0): pass"
   ]
  },
  {
   "cell_type": "code",
   "execution_count": 68,
   "metadata": {},
   "outputs": [],
   "source": [
    "def zabra_puzza():\n",
    "    houses = [first, _, middle, _, _] = [1, 2, 3, 4, 5]\n",
    "    orderings = list(itertools.permutations(houses))\n",
    "    return next((WATER,ZEBRA)\n",
    "                for (red, green, ivory, yellow, blue) in orderings\n",
    "                if imright(green, ivory)    # 6\n",
    "                for (Englishman, Spaniard, Ukranian, Japanese, Norwegian) in orderings\n",
    "                if Englishman is red        # 2\n",
    "                if Norwegian is first       # 10\n",
    "                if nextto(Norwegian, blue)  # 15\n",
    "                for (coffee, tea, milk, oj, WATER) in orderings\n",
    "                if coffee is green          # 4\n",
    "                if Ukranian is tea          # 5\n",
    "                if milk is middle           # 9\n",
    "                for (OldGold, Kools, Chesterfields, LuckyStride, Parliaments) in orderings\n",
    "                if Kools is yellow          # 8\n",
    "                if LuckyStride is oj        # 13\n",
    "                if Japanese is Parliaments  # 14\n",
    "                for (dog, snails, fox, horse, ZEBRA) in orderings\n",
    "                if Spaniard is dog          # 3\n",
    "                if OldGold is snails           # 7\n",
    "                if nextto(Chesterfields, fox) #11\n",
    "                if nextto(Kools, horse)     #12\n",
    "               )"
   ]
  },
  {
   "cell_type": "code",
   "execution_count": 69,
   "metadata": {},
   "outputs": [
    {
     "name": "stdout",
     "output_type": "stream",
     "text": [
      "(1, 5)\n"
     ]
    }
   ],
   "source": [
    "print(zabra_puzza())"
   ]
  },
  {
   "cell_type": "code",
   "execution_count": 29,
   "metadata": {},
   "outputs": [],
   "source": [
    "import time \n",
    "\n",
    "def timecall(fn, *args): # *args means any number of arguments\n",
    "    \"Call function with args; return the time in seconds and result\"\n",
    "    t0 = time.clock()\n",
    "    result = fn(*args)\n",
    "    t1 = time.clock()\n",
    "    return t1 - t0, result"
   ]
  },
  {
   "cell_type": "code",
   "execution_count": 32,
   "metadata": {},
   "outputs": [],
   "source": [
    "def timecalls(n, fn, *args):\n",
    "#     \"Call function n times with atgs; return the min, avg, and max time.\"\n",
    "    \"\"\"Call fn(*args) repeatedly: n times if n is an int, or up to n seconds if n is a float;\n",
    "    return the min, avg, and the max time\n",
    "    \"\"\"\n",
    "#     times = [timecall(fn, *args)[0] for _ in range(n)]\n",
    "    if isinstance(n ,int):\n",
    "        times = [timecall(fn, *args)[0] for _ in range(n)]\n",
    "    else:\n",
    "        times = []\n",
    "        while sum(times) < n:\n",
    "            times.append(timecall(fn, *args)[0])\n",
    "    return min(times), average(times), max(times)\n",
    "\n",
    "def average(numbers):\n",
    "    \"Return the average (arithemtic mean) of a sequence of numbers\"\n",
    "    return sum(numbers) / float(len(numbers))"
   ]
  },
  {
   "cell_type": "markdown",
   "metadata": {},
   "source": [
    "### aspect-oriented programming\n",
    "- Correct\n",
    "- efficient\n",
    "- debugging  \n"
   ]
  },
  {
   "cell_type": "code",
   "execution_count": 64,
   "metadata": {},
   "outputs": [],
   "source": [
    "def instrument_fn(fn ,*args):\n",
    "    c.start, c.items = 0, 0\n",
    "    result = fn(*args)\n",
    "    print(\"{} for {} with {:>5d} iters over {:>7d} items\".format(fn.__name__, result, c.start, c.items) )"
   ]
  },
  {
   "cell_type": "code",
   "execution_count": 50,
   "metadata": {},
   "outputs": [],
   "source": [
    "# generator function\n",
    "def ints(start, end = None):\n",
    "    i = start\n",
    "    while i < end or end is None:\n",
    "        yield i\n",
    "        i = i + 1"
   ]
  },
  {
   "cell_type": "code",
   "execution_count": 53,
   "metadata": {},
   "outputs": [],
   "source": [
    "def all_ints():\n",
    "    \"Generate integers in the order 0, +1, -1, +2, -2, +3, -3\"\n",
    "    yield 0\n",
    "    i = 1\n",
    "    while True:\n",
    "        yield +i\n",
    "        yield -i\n",
    "        i = i + 1"
   ]
  },
  {
   "cell_type": "code",
   "execution_count": 65,
   "metadata": {},
   "outputs": [],
   "source": [
    "def c(sequence):\n",
    "    \"\"\"Generate item in sequence; keeping counts as we go. c.start is the number of sequence started;\n",
    "    c.items is the number of items generated\"\"\"\n",
    "    c.start += 1\n",
    "    for item in sequence:\n",
    "        c.items += 1\n",
    "        yield item"
   ]
  },
  {
   "cell_type": "code",
   "execution_count": 70,
   "metadata": {},
   "outputs": [
    {
     "name": "stdout",
     "output_type": "stream",
     "text": [
      "zabra_puzza_c for (1, 5) with    25 iters over    2775 items\n"
     ]
    }
   ],
   "source": [
    "def zabra_puzza_c():\n",
    "    houses = [first, _, middle, _, _] = [1, 2, 3, 4, 5]\n",
    "    orderings = list(itertools.permutations(houses))\n",
    "    return next((WATER,ZEBRA)\n",
    "                for (red, green, ivory, yellow, blue) in c(orderings)\n",
    "                if imright(green, ivory)    # 6\n",
    "                for (Englishman, Spaniard, Ukranian, Japanese, Norwegian) in c(orderings)\n",
    "                if Englishman is red        # 2\n",
    "                if Norwegian is first       # 10\n",
    "                if nextto(Norwegian, blue)  # 15\n",
    "                for (coffee, tea, milk, oj, WATER) in c(orderings)\n",
    "                if coffee is green          # 4\n",
    "                if Ukranian is tea          # 5\n",
    "                if milk is middle           # 9\n",
    "                for (OldGold, Kools, Chesterfields, LuckyStride, Parliaments) in c(orderings)\n",
    "                if Kools is yellow          # 8\n",
    "                if LuckyStride is oj        # 13\n",
    "                if Japanese is Parliaments  # 14\n",
    "                for (dog, snails, fox, horse, ZEBRA) in c(orderings)\n",
    "                if Spaniard is dog          # 3\n",
    "                if OldGold is snails           # 7\n",
    "                if nextto(Chesterfields, fox) #11\n",
    "                if nextto(Kools, horse)     #12\n",
    "               )\n",
    "\n",
    "instrument_fn(zabra_puzza_c)"
   ]
  },
  {
   "cell_type": "markdown",
   "metadata": {},
   "source": [
    "### The solution\n",
    "- write allarules of arithmetic: there is a lot of complexity in understanding all the rules\n",
    "- origin/filled eval"
   ]
  },
  {
   "cell_type": "code",
   "execution_count": 79,
   "metadata": {},
   "outputs": [],
   "source": [
    "import string ,re\n",
    "\n",
    "def solve(formula):\n",
    "    \"\"\"Given a formula liks 'ODD + ODD == EVEN', fill in digits to solve it.\n",
    "    Input formula is a string; output is a digit-filled-in string or None.\"\"\"\n",
    "    for f in fill_in(formula):\n",
    "        if valid(f):\n",
    "            return f\n",
    "    \n",
    "def fill_in(formula):\n",
    "    \"\"\"Generate all possible fillings-in of letters in formula with digits\"\"\"\n",
    "    letters = ''.join(set(re.findall('[A-Z]',formula)))\n",
    "    for digits in itertools.permutations('1234567890', len(letters)):\n",
    "        table = formula.maketrans(letters, ''.join(digits))\n",
    "        yield formula.translate(table)\n",
    "        \n",
    "def valid(f):\n",
    "    \"Formula f is valid if it has no numbers with leading zero, and eval is true\"\n",
    "    try:\n",
    "        return not re.search(r'\\b0[0-9]', f) and eval(f) is True\n",
    "    except ArithmeticError:\n",
    "        return False"
   ]
  },
  {
   "cell_type": "code",
   "execution_count": 144,
   "metadata": {},
   "outputs": [
    {
     "data": {
      "text/plain": [
       "'655 + 655 == 1310'"
      ]
     },
     "execution_count": 144,
     "metadata": {},
     "output_type": "execute_result"
    }
   ],
   "source": [
    " solve('ODD + ODD == EVEN')"
   ]
  },
  {
   "cell_type": "code",
   "execution_count": 174,
   "metadata": {},
   "outputs": [
    {
     "name": "stdout",
     "output_type": "stream",
     "text": [
      "            TWO + TWO == FOUR\n",
      "0.7170 sec: 734 + 734 == 1468\n",
      "            A**2 + B**2 == C**2\n",
      "0.0017 sec: 3**2 + 4**2 == 5**2\n",
      "            X / X == X\n",
      "0.0000 sec: 1 / 1 == 1\n",
      "            A**N + B**N == C**N and N > 1\n",
      "0.0136 sec: 3**2 + 4**2 == 5**2 and 2 > 1\n",
      "            ATOM**0.5 == A + TO + M\n",
      "0.0067 sec: 6724**0.5 == 6 + 72 + 4\n",
      "            GLITTERS is not GOLD\n",
      "0.0000 sec: 17233649 is not 1578\n",
      "            ONE < TWO and FOUR < FIVE\n",
      "2.9049 sec: 105 < 361 and 9174 < 9285\n",
      "            ONE < TWO < THREE\n",
      "0.0560 sec: 275 < 362 < 31455\n",
      "            RAMN == R**3  + RM**3 == N**3 + RX**3\n",
      "0.0272 sec: 1729 == 1**3  + 12**3 == 9**3 + 10**3\n",
      "            sum(range(AA)) == BB\n",
      "0.0001 sec: sum(range(11)) == 55\n",
      "            sum(range(POP)) == BOBO\n",
      "0.0088 sec: sum(range(101)) == 5050\n",
      "            ODD + ODD == EVEN\n",
      "0.0484 sec: 655 + 655 == 1310\n",
      "            PLUTO not in set([PLANETS])\n",
      "0.0000 sec: 43512 not in set([4369718])\n",
      "3.7851 tot.\n"
     ]
    }
   ],
   "source": [
    "examples = \"\"\"TWO + TWO == FOUR\n",
    "A**2 + B**2 == C**2\n",
    "X / X == X\n",
    "A**N + B**N == C**N and N > 1\n",
    "ATOM**0.5 == A + TO + M\n",
    "GLITTERS is not GOLD\n",
    "ONE < TWO and FOUR < FIVE\n",
    "ONE < TWO < THREE\n",
    "RAMN == R**3  + RM**3 == N**3 + RX**3\n",
    "sum(range(AA)) == BB\n",
    "sum(range(POP)) == BOBO\n",
    "ODD + ODD == EVEN\n",
    "PLUTO not in set([PLANETS])\"\"\".splitlines()\n",
    "examples\n",
    "\n",
    "def test():\n",
    "    t0 = time.clock()\n",
    "    for example in examples:\n",
    "        print(\"{:>11} {}\".format('',example))\n",
    "        a,b = timecall(solve,example)\n",
    "        print(\"{:<6.4f} sec: {}\".format(a,b))\n",
    "    print('{:6.4f} tot.'.format(time.clock() - t0))\n",
    "test()"
   ]
  },
  {
   "cell_type": "markdown",
   "metadata": {},
   "source": [
    "### Tracing Time\n",
    "\n",
    "***command prompt***  \n",
    "$python -m cProfile file.py\n",
    "  \n",
    "***other***  \n",
    "import cProfile  \n",
    "cProfile.run(solve())"
   ]
  },
  {
   "cell_type": "code",
   "execution_count": 89,
   "metadata": {},
   "outputs": [
    {
     "name": "stdout",
     "output_type": "stream",
     "text": [
      "         266122 function calls in 0.255 seconds\n",
      "\n",
      "   Ordered by: standard name\n",
      "\n",
      "   ncalls  tottime  percall  cumtime  percall filename:lineno(function)\n",
      "    30241    0.019    0.000    0.050    0.000 <ipython-input-79-8676eb07bea2>:10(fill_in)\n",
      "    30240    0.014    0.000    0.202    0.000 <ipython-input-79-8676eb07bea2>:17(valid)\n",
      "        1    0.009    0.009    0.260    0.260 <ipython-input-79-8676eb07bea2>:3(solve)\n",
      "        1    0.000    0.000    0.000    0.000 <string>:1(<module>)\n",
      "    30240    0.010    0.000    0.042    0.000 re.py:179(search)\n",
      "        1    0.000    0.000    0.000    0.000 re.py:214(findall)\n",
      "    30241    0.010    0.000    0.010    0.000 re.py:286(_compile)\n",
      "    24192    0.141    0.000    0.146    0.000 {built-in method builtins.eval}\n",
      "        1    0.000    0.000    0.260    0.260 {built-in method builtins.exec}\n",
      "        1    0.000    0.000    0.000    0.000 {built-in method builtins.len}\n",
      "    30240    0.010    0.000    0.010    0.000 {built-in method maketrans}\n",
      "        1    0.000    0.000    0.000    0.000 {method 'disable' of '_lsprof.Profiler' objects}\n",
      "        1    0.000    0.000    0.000    0.000 {method 'findall' of '_sre.SRE_Pattern' objects}\n",
      "    30241    0.004    0.000    0.004    0.000 {method 'join' of 'str' objects}\n",
      "    30240    0.021    0.000    0.021    0.000 {method 'search' of '_sre.SRE_Pattern' objects}\n",
      "    30240    0.017    0.000    0.017    0.000 {method 'translate' of 'str' objects}\n",
      "\n",
      "\n"
     ]
    }
   ],
   "source": [
    "import cProfile\n",
    "cProfile.run(\"solve('OOD + OOD == EVEN')\")"
   ]
  },
  {
   "cell_type": "code",
   "execution_count": 90,
   "metadata": {},
   "outputs": [
    {
     "data": {
      "text/plain": [
       "False"
      ]
     },
     "execution_count": 90,
     "metadata": {},
     "output_type": "execute_result"
    }
   ],
   "source": [
    "# the eval costs so much time, eval is a built-in function\n",
    "# (1) break it up into smaller pieces, divide and conquer\n",
    "# (2) make fewer calls\n",
    "# or pass it an argument that's easier for it to evaluate\n",
    "\n",
    "#lambda\n",
    "\n",
    "f = lambda Y, M, E, U ,O :(1 * U + 10 * O + 100 * Y) == (1 * E + 10 * M) ** 2\n",
    "\n",
    "f(1,2,3,4,5)"
   ]
  },
  {
   "cell_type": "code",
   "execution_count": 129,
   "metadata": {},
   "outputs": [
    {
     "data": {
      "text/plain": [
       "'(1*2+10**+100* +1000*N+10000*O+100000*C)'"
      ]
     },
     "execution_count": 129,
     "metadata": {},
     "output_type": "execute_result"
    }
   ],
   "source": [
    "def compile_word(word):\n",
    "    \"\"\"Compile a word of uppercase letters as numeric digits.\n",
    "    E.g., compile_word('YOU') => '(1*U+10*O+100*Y)'\n",
    "    Non-uppercase words unchanged: compile_word('+') => '+'\"\"\"\n",
    "    if word.isupper():\n",
    "        terms = [('{}*{}'.format(10 ** i, d)) for (i,d) in enumerate(word[::-1])]\n",
    "        return '(' + '+'.join(terms) + ')'\n",
    "    else:\n",
    "        return word\n",
    "    \n",
    "compile_word('CON')"
   ]
  },
  {
   "cell_type": "code",
   "execution_count": 94,
   "metadata": {},
   "outputs": [
    {
     "data": {
      "text/plain": [
       "123"
      ]
     },
     "execution_count": 94,
     "metadata": {},
     "output_type": "execute_result"
    }
   ],
   "source": [
    "eval('123')"
   ]
  },
  {
   "cell_type": "code",
   "execution_count": 179,
   "metadata": {},
   "outputs": [
    {
     "name": "stdout",
     "output_type": "stream",
     "text": [
      "YOEUM Y, O, E, U, M Y!=0 and M!=0 and (1*U+10*O+100*Y) == (1*E+10*M) ** 2 lambda Y, O, E, U, M: Y!=0 and M!=0 and (1*U+10*O+100*Y) == (1*E+10*M) ** 2\n"
     ]
    },
    {
     "data": {
      "text/plain": [
       "'289 == 17 ** 2'"
      ]
     },
     "execution_count": 179,
     "metadata": {},
     "output_type": "execute_result"
    }
   ],
   "source": [
    "def faster_solve(formula):\n",
    "    \"\"\"Given a formula liks 'ODD + ODD == EVEN', fill in digits to solve it.\n",
    "    Input formula is a string; output is a digit-filled-in string or None.\n",
    "    This version precompiles the formula; only one eval per formula\"\"\"\n",
    "    f, letters = compile_formula(formula)\n",
    "    for digits in itertools.permutations((1,2,3,4,5,6,7,8,9,0), len(letters)):\n",
    "        try:\n",
    "            if f(*digits) is True:\n",
    "                table = formula.maketrans(letters, ''.join(map(str,digits)))\n",
    "                return formula.translate(table)\n",
    "        except ArithmeticError:\n",
    "            pass\n",
    "\n",
    "def compile_formula(formula, verbose = False):\n",
    "    \"\"\"Compile formula into a function. Alse Return letters found, as a str,\n",
    "    in same order as params of function. For example, 'YOU == ME**2' returns\n",
    "    (lambda Y, M, E, U, O:(U + 10 * O + 100 * Y) == (E + 10 * M ) ** 2), 'YMEUO'\"\"\"\n",
    "    letters = ''.join(set(re.findall('[A-Z]', formula)))\n",
    "    firstletters = set(re.findall(r'\\b([A-Z])[A-Z]', formula))\n",
    "    param = ', '.join(letters)\n",
    "    tokens = map(compile_word, re.split('([A-Z]+)',formula))\n",
    "    body = ''.join(tokens)\n",
    "    if firstletters:\n",
    "        tests = ' and '.join(L + '!=0' for L in firstletters)\n",
    "        body = '{} and {}'.format(tests, body)\n",
    "    f = 'lambda {}: {}'.format(param, body)\n",
    "    print(letters, param, body ,f)\n",
    "    if verbose: print (f)\n",
    "    return eval(f), letters\n",
    "faster_solve(\"YOU == ME ** 2\")"
   ]
  },
  {
   "cell_type": "code",
   "execution_count": 149,
   "metadata": {},
   "outputs": [
    {
     "name": "stdout",
     "output_type": "stream",
     "text": [
      "12********\n"
     ]
    }
   ],
   "source": [
    "print(\"{:*<10}\".format(12))"
   ]
  }
 ],
 "metadata": {
  "kernelspec": {
   "display_name": "Python 3",
   "language": "python",
   "name": "python3"
  },
  "language_info": {
   "codemirror_mode": {
    "name": "ipython",
    "version": 3
   },
   "file_extension": ".py",
   "mimetype": "text/x-python",
   "name": "python",
   "nbconvert_exporter": "python",
   "pygments_lexer": "ipython3",
   "version": "3.6.5"
  }
 },
 "nbformat": 4,
 "nbformat_minor": 2
}

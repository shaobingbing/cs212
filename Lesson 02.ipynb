{
 "cells": [
  {
   "cell_type": "markdown",
   "metadata": {},
   "source": [
    "***Lazy is a virtue***"
   ]
  },
  {
   "cell_type": "code",
   "execution_count": 2,
   "metadata": {},
   "outputs": [
    {
     "data": {
      "text/plain": [
       "\"\\nSee: http://en.wikipedia.org/wiki/Zebra_Puzzle\\n\\n1  'There are five houses.'\\n2  'The Englishman lives in the red house.'\\n3  'The Spaniard owns the dog.'\\n4  'Coffee is drunk in the green house.'\\n5  'The Ukrainian drinks tea.'\\n6  'The green house is immediately to the right of the ivory house.'\\n7  'The Old Gold smoker owns snails.'\\n8  'Kools are smoked in the yellow house.'\\n9  'Milk is drunk in the middle house.'\\n10 'The Norwegian lives in the first house.'\\n11 'The man who smokes Chesterfields lives in the house next to the man with the fox.'\\n12 'Kools are smoked in the house next to the house where the horse is kept.'\\n13 'The Lucky Strike smoker drinks orange juice.'\\n14 'The Japanese smokes Parliaments.'\\n15 'The Norwegian lives next to the blue house.'\\n\\nNow, who drinks water? Who owns the zebra?\\n\\nIn the interest of clarity, it must be added that each of the five houses is painted a different color,\\nand their inhabitants are of different national extractions, own different pets, drink different beverages \\nand smoke different brands of American cigarets [sic]. One other thing: in statement 6, right means your right.\\n\""
      ]
     },
     "execution_count": 2,
     "metadata": {},
     "output_type": "execute_result"
    }
   ],
   "source": [
    "\"\"\"\n",
    "See: http://en.wikipedia.org/wiki/Zebra_Puzzle\n",
    "\n",
    "1  'There are five houses.'\n",
    "2  'The Englishman lives in the red house.'\n",
    "3  'The Spaniard owns the dog.'\n",
    "4  'Coffee is drunk in the green house.'\n",
    "5  'The Ukrainian drinks tea.'\n",
    "6  'The green house is immediately to the right of the ivory house.'\n",
    "7  'The Old Gold smoker owns snails.'\n",
    "8  'Kools are smoked in the yellow house.'\n",
    "9  'Milk is drunk in the middle house.'\n",
    "10 'The Norwegian lives in the first house.'\n",
    "11 'The man who smokes Chesterfields lives in the house next to the man with the fox.'\n",
    "12 'Kools are smoked in the house next to the house where the horse is kept.'\n",
    "13 'The Lucky Strike smoker drinks orange juice.'\n",
    "14 'The Japanese smokes Parliaments.'\n",
    "15 'The Norwegian lives next to the blue house.'\n",
    "\n",
    "Now, who drinks water? Who owns the zebra?\n",
    "\n",
    "In the interest of clarity, it must be added that each of the five houses is painted a different color,\n",
    "and their inhabitants are of different national extractions, own different pets, drink different beverages \n",
    "and smoke different brands of American cigarets [sic]. One other thing: in statement 6, right means your right.\n",
    "\"\"\""
   ]
  },
  {
   "cell_type": "markdown",
   "metadata": {},
   "source": [
    "***Question 01: Do we need to seperate out the different types of assigment?***  \n",
    "\n",
    "***Question 02: Are we missing this idea of property name with a description attached?***  \n",
    "  \n",
    "Method: try all possibility"
   ]
  },
  {
   "cell_type": "code",
   "execution_count": 6,
   "metadata": {},
   "outputs": [],
   "source": [
    "import itertools\n",
    "\n",
    "houses = [1, 2, 3, 4, 5]\n",
    "orderings = list(itertools.permutations(houses))\n",
    "\n",
    "def imright(h1, h2):\n",
    "    \"House h1 is immediately right of h2 if h1 - h2 == 1\"\n",
    "    return h1 - h2 ==1\n",
    "\n",
    "def nextto(h1, h2):\n",
    "    \"Two houses are next to each other if they differ by 1\"\n",
    "    return abs(h1 - h2) == 1"
   ]
  },
  {
   "cell_type": "code",
   "execution_count": null,
   "metadata": {},
   "outputs": [],
   "source": []
  }
 ],
 "metadata": {
  "kernelspec": {
   "display_name": "Python 3",
   "language": "python",
   "name": "python3"
  },
  "language_info": {
   "codemirror_mode": {
    "name": "ipython",
    "version": 3
   },
   "file_extension": ".py",
   "mimetype": "text/x-python",
   "name": "python",
   "nbconvert_exporter": "python",
   "pygments_lexer": "ipython3",
   "version": "3.6.5"
  }
 },
 "nbformat": 4,
 "nbformat_minor": 2
}

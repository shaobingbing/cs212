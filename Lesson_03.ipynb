{
 "cells": [
  {
   "cell_type": "markdown",
   "metadata": {},
   "source": [
    "## Making tools"
   ]
  },
  {
   "cell_type": "markdown",
   "metadata": {},
   "source": [
    "### Using technique"
   ]
  },
  {
   "cell_type": "code",
   "execution_count": 1,
   "metadata": {},
   "outputs": [
    {
     "name": "stdout",
     "output_type": "stream",
     "text": [
      "test passes\n"
     ]
    }
   ],
   "source": [
    "## Regular Expression\n",
    "\n",
    "# s.find('substring') return the indice the substring if exists else -1\n",
    "# @pattern, origin        ----> pattern \n",
    "#           baa!|baaa!    ----> baa*!\n",
    "# '*' : any numbers of the preceding word\n",
    "# '?' : zero or one word(exist or not exist)\n",
    "# '.' : any single character\n",
    "# '^' : the begging of the text\n",
    "# '$' : the end of the text\n",
    "\n",
    "def search(pattern, text):\n",
    "    \"Return True if pattern appears anywhere in text\"\n",
    "    if pattern.startswith('^'):\n",
    "        return match(pattern[1:] , text)\n",
    "    else:\n",
    "#         print('.*' + pattern)\n",
    "        return match('.*' + pattern, text)\n",
    "    \n",
    "def match(pattern, text):\n",
    "    \"return True if pattern appears at the start of text\"\n",
    "    if pattern == '':\n",
    "        return True\n",
    "    \n",
    "    elif pattern == '$':\n",
    "        return (text == '')\n",
    "    elif len(pattern) > 1 and pattern[1] in '*?':\n",
    "        p, op, pat = pattern[0], pattern[1], pattern[2:]\n",
    "#         print(p, op, pat)\n",
    "        if op == '*':\n",
    "            return match_star(p, pat, text)\n",
    "        elif op == '?':\n",
    "            if match1(p, text) and match(pat, text):\n",
    "                return True\n",
    "            else:\n",
    "                return match(pat, text)\n",
    "        \n",
    "    else:\n",
    "        return (match1(pattern[0], text) and match(pattern[1:], text[1:]))\n",
    "    \n",
    "\n",
    "def match1(p, text):\n",
    "    \"\"\"Return True if first character of text natches pattern character p\"\"\"\n",
    "    if not text: return False\n",
    "    return p == '.' or p == text[0]\n",
    "\n",
    "\n",
    "def match_star(p, pattern, text):\n",
    "    \"\"\"Return true if any number of char p, follwed by pattern, matches text.\"\"\"\n",
    "    return (match(pattern, text) or\n",
    "            (match1(p, text) and match_star(p, pattern, text[1:])))\n",
    "    \n",
    "def test():\n",
    "    #test search(pattern, text)\n",
    "    assert search('baa*!', 'Sheep said baaaa!') == True\n",
    "    assert search('baa*!', 'Sheep said baaaa humbu!') == False\n",
    "    assert search('def', 'abcdefg')\n",
    "    assert search('def$', 'abcdef')\n",
    "    assert search('def$', 'abcdefg') == False\n",
    "    assert search('^start', 'not the start') == False\n",
    "    assert search('start', 'not the start')\n",
    "    \n",
    "    # test match(pattern ,text)\n",
    "    assert match('baa*!', 'Sheep said baaa!') == False\n",
    "    assert match('baa*!', 'baaaaaaa! said the sheep')\n",
    "    assert match('start', 'not the start') == False\n",
    "    assert match('a*b*c*', 'just anything')\n",
    "    assert match('x?', 'text')\n",
    "    assert match('text?', 'text')\n",
    "    assert match('text?', 'tex')\n",
    "    \n",
    "    assert all(match('aa*bb*cc*$', s) \n",
    "               for s in words('abc aaabbcc aaaabcccc'))\n",
    "    assert not any(match('aa*bb*cc*$', s)\n",
    "                   for s in words('ac aaabbcccd aaaa-b-cccc'))\n",
    "    assert all(search('^ab.*aca.*a$', s)\n",
    "              for s in words('abracadavra abacaa about-acacia-a'))\n",
    "    assert all(search('t.p', s)\n",
    "              for s in words('tip top tap atypical tepid stop'))\n",
    "    assert not any(search('t.p', s)\n",
    "                  for s in words('TYPE teepee tp'))\n",
    "    \n",
    "    return 'test passes'\n",
    "    \n",
    "def words(text):return text.split()\n",
    "\n",
    "\n",
    "print(test())\n",
    "\n",
    "## http://tinyurl.com/pike-regexp"
   ]
  },
  {
   "cell_type": "markdown",
   "metadata": {},
   "source": [
    "### Language && Grammer\n",
    "**language** : a set of strings  \n",
    "**grammer** : a description of a language"
   ]
  },
  {
   "cell_type": "markdown",
   "metadata": {},
   "source": [
    "#### Regular Expression"
   ]
  },
  {
   "cell_type": "code",
   "execution_count": 2,
   "metadata": {},
   "outputs": [],
   "source": [
    "import re"
   ]
  },
  {
   "cell_type": "code",
   "execution_count": 3,
   "metadata": {},
   "outputs": [],
   "source": [
    "def search(pattern, text):\n",
    "    \"Match pattern anywhere in text; return longest earliest match or None\"\n",
    "    for i in range(len(text)):\n",
    "        m = match(pattern, text[i:])\n",
    "        if m is not None:\n",
    "            return m\n",
    "def match(pattern, text):\n",
    "    \"Match pattern againest start of text; return longest match found or None\"\n",
    "    remainders = matchset(pattern ,text)\n",
    "    if remainders:\n",
    "        shortest = min(remainders, key = len)\n",
    "        return text[:len(text) - len(shortest)]\n",
    "\n",
    "def components(pattern):\n",
    "    \"Return the op, x, and y arguments; x and y are None if missing.\"\n",
    "    x = pattern[1] if len(pattern) > 1 else None\n",
    "    y = pattern[2] if len(pattern) > 2 else None\n",
    "    return pattern[0], x, y\n",
    "\n",
    "def matchset(pattern, text):\n",
    "    \"Match pattern at start of text; return a set of ramainders of text.\"\n",
    "    op, x ,y = components(pattern)\n",
    "    if 'lit' == op:\n",
    "        return set([text[len(x):]]) if text.startswith(x) else null\n",
    "    elif 'seq' == op:\n",
    "        return set(t2 for t1 in matchset(x, text) for t2 in matchset(y, t1))\n",
    "    elif 'alt' == op:\n",
    "        return matchset(x, text) | matchset(y, text)\n",
    "    elif 'dot' == op:\n",
    "        return set([text[1:]] if text else null)\n",
    "    elif 'oneof' == op:\n",
    "        return set([text[1:]]) if any(text.startswith(c) for c in x) else null\n",
    "    elif 'eol' == op:\n",
    "        return set(['']) if text == '' else null\n",
    "    elif 'star' == op:\n",
    "        return (set([text]) |\n",
    "                set(t2 for t1 in matchset(x, text)\n",
    "                   for t2 in matchset(pattern, t1) if t1 != text))\n",
    "    else:\n",
    "        raise ValueError('unknown pattern: {}'.format(pattern))\n",
    "        \n",
    "null = frozenset()\n",
    "\n",
    "def lit(string):\n",
    "    return ('lit', string)\n",
    "\n",
    "def seq(x,y):\n",
    "    return ('seq', x, y)\n",
    "\n",
    "def alt(x, y):\n",
    "    return ('alt', x, y)\n",
    "\n",
    "def star(x):\n",
    "    return ('star', x)\n",
    "   \n",
    "def plus(x):\n",
    "    return ('plus', x)\n",
    "\n",
    "def opt(x):\n",
    "    return ('opt', x)\n",
    "\n",
    "def oneof(chars):\n",
    "    return ('oneof', tuple(chars))\n",
    "\n",
    "dot = ('dot',)\n",
    "\n",
    "eol = ('eol',)\n",
    "\n",
    "def test_search():\n",
    "    a,b,c = lit('a'), lit('b'), lit('c')\n",
    "    abcstars = seq(star(a), seq(star(b), star(c)))\n",
    "    dotstar = star(dot)\n",
    "    r = seq(lit('ab'), seq(dotstar, seq(lit('aca'), seq(dotstar, seq(a, eol))))) \n",
    "    \n",
    "    assert search(lit('def'), 'abcdefg') == 'def'\n",
    "    assert search(seq(lit('def'), eol), 'abcdef') == 'def'\n",
    "    assert search(seq(lit('def'), eol), 'abcdefg') == None\n",
    "    assert search(a, 'not the start') == 'a'\n",
    "    \n",
    "    assert match(a, 'not the start') == None\n",
    "    assert match(abcstars, 'aaabbbccccccccdef') == 'aaabbbcccccccc'\n",
    "    assert match(abcstars, 'junk') == ''\n",
    "    \n",
    "    assert all(match(seq(abcstars, eol), s) == s\n",
    "              for s in 'abc aaabbccc aaaabcccc'.split())\n",
    "    assert all(match(seq(abcstars, eol), s) == None\n",
    "              for s in 'cab aaabbcccd aaaa-b-cccc'.split())\n",
    "    assert all(search(r, s) is not None\n",
    "              for s in 'abracadabra abacaa about-acacia-flora'.split())\n",
    "    assert all(match(seq(c, seq(dotstar, b)), s) is not None\n",
    "              for s in 'cab cab carob cb carbuncle'.split())\n",
    "    assert not any(match(seq(c, seq(dot,b)), s) \n",
    "                  for s in 'crab cb across scab'.split())\n",
    "    \n",
    "    return 'test_search passes'"
   ]
  },
  {
   "cell_type": "code",
   "execution_count": 4,
   "metadata": {},
   "outputs": [
    {
     "name": "stdout",
     "output_type": "stream",
     "text": [
      "test_search passes\n"
     ]
    }
   ],
   "source": [
    "print (test_search())"
   ]
  },
  {
   "cell_type": "code",
   "execution_count": 5,
   "metadata": {},
   "outputs": [
    {
     "data": {
      "text/plain": [
       "{'3'}"
      ]
     },
     "execution_count": 5,
     "metadata": {},
     "output_type": "execute_result"
    }
   ],
   "source": [
    "matchset(seq(dot, lit('2')), '123')"
   ]
  },
  {
   "cell_type": "markdown",
   "metadata": {},
   "source": [
    "### compiler && interpreter"
   ]
  },
  {
   "cell_type": "code",
   "execution_count": 6,
   "metadata": {},
   "outputs": [],
   "source": [
    "def match(pattern ,text):\n",
    "    \"Match pattern against start of text\"\n",
    "    remainders = pattern(text)\n",
    "    if remainders:\n",
    "        shortest = min(remainders, key = len)\n",
    "        return text[:len(text) - len(shortest)]\n",
    "\n",
    "\n",
    "def lit(string):\n",
    "    return lambda text:set([text[len(string):]]) if text.startswith(string) else null\n",
    "\n",
    "def seq(x,y):\n",
    "    return lambda text:set().union(*map(y, x(text)))\n",
    "\n",
    "def alt(x, y):\n",
    "    return lambda text: x(text) | y(text)\n",
    "\n",
    "def star(x):\n",
    "    return lambda text: (set([text]) | \n",
    "                        set(t2 for t1 in x(text) if t1 != text\n",
    "                           for t2 in star(x)(t1)))\n",
    "def plus(x):\n",
    "    return ('plus', x)\n",
    "\n",
    "def opt(x):\n",
    "    return ('opt', x)\n",
    "\n",
    "def oneof(chars):\n",
    "    return lambda text: set(text[1:]) if (t and t[0] in chars) else null\n",
    "\n",
    "dot = lambda text: set([text[1:]]) if text else null\n",
    "\n",
    "eol = lambda text: set[''] if t == '' else null"
   ]
  },
  {
   "cell_type": "code",
   "execution_count": 9,
   "metadata": {},
   "outputs": [
    {
     "data": {
      "text/plain": [
       "{'bc'}"
      ]
     },
     "execution_count": 9,
     "metadata": {},
     "output_type": "execute_result"
    }
   ],
   "source": [
    "pat = star(lit('a'))\n",
    "pat('bc')"
   ]
  },
  {
   "cell_type": "code",
   "execution_count": 10,
   "metadata": {},
   "outputs": [
    {
     "name": "stdout",
     "output_type": "stream",
     "text": [
      "  2           0 LOAD_GLOBAL              0 (aqrt)\n",
      "              2 LOAD_FAST                0 (x)\n",
      "              4 LOAD_CONST               1 (2)\n",
      "              6 BINARY_POWER\n",
      "              8 LOAD_FAST                1 (y)\n",
      "             10 LOAD_CONST               1 (2)\n",
      "             12 BINARY_POWER\n",
      "             14 BINARY_ADD\n",
      "             16 CALL_FUNCTION            1\n",
      "             18 RETURN_VALUE\n"
     ]
    }
   ],
   "source": [
    "import dis\n",
    "dis.dis(lambda x, y: aqrt(x ** 2 + y ** 2))"
   ]
  },
  {
   "cell_type": "markdown",
   "metadata": {},
   "source": [
    "### Generatos "
   ]
  },
  {
   "cell_type": "code",
   "execution_count": 11,
   "metadata": {},
   "outputs": [],
   "source": [
    "## Ns: number set\n",
    "\n",
    "def lit(s):\n",
    "    set_s = set([s])          # avoid repetition\n",
    "    return lambda Ns:set_s if len(s) in Ns else null\n",
    "\n",
    "def seq(x,y):\n",
    "    return lambda Ns: genseq(x, y, Ns)\n",
    "\n",
    "def alt(x, y):\n",
    "    return lambda Ns: x(Ns) | y(Ns)\n",
    "\n",
    "def star(x):\n",
    "    return lambda Ns: opt(plus(x))(Ns)\n",
    "\n",
    "def plus(x):\n",
    "    return lambda Ns: genseq(x, star(x), Ns, startx = 1)\n",
    "\n",
    "def opt(x):\n",
    "    return alt(epsilon, x)\n",
    "\n",
    "def oneof(chars):\n",
    "    set_chars = set(chars)\n",
    "    return lambda Ns: set_chars if 1 in Ns else null\n",
    "\n",
    "dot = oneof('?')              ## You should expand the alphabet to more chars\n",
    "epsilon = lit('')            ## The pattern that matches the empty string\n",
    "\n",
    "\n",
    "def genseq(x, y, Ns):\n",
    "    Nss = range(max(Ns) + 1)\n",
    "    return set(m1 + m2\n",
    "              for m1 in x(Nss)\n",
    "              for m2 in y(Nss)\n",
    "              if len(m1 + m2) in Ns)\n",
    "\n",
    "def genseq(x, y, Ns, startx = 0):\n",
    "    \"Set of matches to xy whose total length is Ns, witn x-match's length is Ns_x\"\n",
    "    # Tricky part: x+ is defined as: x+ = x x*\n",
    "    # To stop the recursion, the first x must generate at least 1 char\n",
    "    # and then the recursive x* has that many fewer characters. We use\n",
    "    # startx = 1 to say that x must at least 1 character\n",
    "    if not Ns:\n",
    "        return null\n",
    "    \n",
    "    xmatches = x(set(range(startx, max(Ns) + 1)))\n",
    "#     print(xmatches)\n",
    "    Ns_x = set(len(m) for m in xmatches)\n",
    "    Ns_y = set(n - m for n in Ns for m in Ns_x if n - m >=0)\n",
    "    ymatches = y(Ns_y)\n",
    "#     print(ymatches)\n",
    "    return set(m1 + m2\n",
    "              for m1 in xmatches\n",
    "              for m2 in ymatches\n",
    "              if len(m1 + m2) in Ns)\n",
    "\n",
    "def N(hi): return set(range(hi + 1))\n",
    "\n",
    "def test_gen():\n",
    "    a,b,c = map(lit, 'abc')\n",
    "    assert star(oneof('ab'))(N(2)) == set(['', 'a', 'aa', 'ab','b','ba', 'bb'])\n",
    "    assert (seq(star(a), seq(star(b), star(c)))(set([4])) == \n",
    "    set(['aaaa', 'aaab', 'aaac', 'aabb', 'aabc', 'aacc', 'abbb', 'abbc', 'abcc', 'accc', 'bbbb',\n",
    "         'bbbc', 'bbcc', 'bccc', 'cccc']))\n",
    "    assert (seq(plus(a), seq(plus(b), plus(c)))(set([5])) == \n",
    "            set(['aaabc', 'aabbc', 'aabcc', 'abbbc', 'abbcc', 'abccc']))\n",
    "    assert (seq(oneof('bcfhrsm'), lit('at'))(N(3)) ==\n",
    "           set(['bat', 'cat', 'fat', 'hat', 'mat', 'rat', 'sat']))\n",
    "    assert (seq(star(alt(a, b)), opt(c))(set([3])) == \n",
    "           set(['aaa', 'aab', 'aac', 'aba', 'abb', 'abc', 'baa', 'bab', 'bac', 'bba', 'bbb', 'bbc']))\n",
    "    assert lit('hello')(set([5])) == set(['hello'])\n",
    "    assert lit('hello')(set([4])) == set()\n",
    "    assert lit('hello')(set([6])) == set()\n",
    "    return \"test_gen passes\""
   ]
  },
  {
   "cell_type": "code",
   "execution_count": 12,
   "metadata": {},
   "outputs": [
    {
     "name": "stdout",
     "output_type": "stream",
     "text": [
      "test_gen passes\n"
     ]
    }
   ],
   "source": [
    "print(test_gen())"
   ]
  },
  {
   "cell_type": "markdown",
   "metadata": {},
   "source": [
    "### Change Seq\n",
    "- backward compatible\n",
    "- the change is internal or external\n",
    "    - the inside of sequence doesn't efect all the callers\n",
    "    - "
   ]
  },
  {
   "cell_type": "markdown",
   "metadata": {},
   "source": [
    "### Decorator "
   ]
  },
  {
   "cell_type": "code",
   "execution_count": 13,
   "metadata": {},
   "outputs": [
    {
     "name": "stdout",
     "output_type": "stream",
     "text": [
      "Help on function seq in module __main__:\n",
      "\n",
      "seq(x, y)\n",
      "\n"
     ]
    }
   ],
   "source": [
    "from functools import update_wrapper\n",
    "\n",
    "def decorator(d):\n",
    "    \"Make function d a decorator: d wraps a function to fn\"\n",
    "    def _d(fn):\n",
    "        return update_wrapper(d(fn), fn)\n",
    "    \n",
    "    update_wrapper(_d, d)\n",
    "    return _d\n",
    "\n",
    "@decorator\n",
    "def n_ary(f):\n",
    "    \"\"\"Given binary function(x, y), return an n_ary function such that \n",
    "    f(x,y,z) = f(x, f(y,z)),etc.Also allow f(x) = x.\"\"\"\n",
    "    def n_ary_f(x, *args):\n",
    "        return x if not args else f(x, n_ary(*args))\n",
    "    \n",
    "#     update_wrapper(n_ary_f, f)\n",
    "    return n_ary_f\n",
    "\n",
    "\n",
    "## DECORATOR\n",
    "\n",
    "\n",
    "@n_ary\n",
    "def seq(x, y): return ('seq', x, y)\n",
    "\n",
    "## equal @n_ary\n",
    "seq = n_ary(seq)\n",
    "\n",
    "help(seq)"
   ]
  },
  {
   "cell_type": "code",
   "execution_count": 14,
   "metadata": {},
   "outputs": [],
   "source": [
    "@decorator\n",
    "def memo(f):\n",
    "    \"\"\"Decorator that caches the return value for each call to f(args).\n",
    "    Then when called again with same args, we can just look it up\"\"\"\n",
    "    cache = {}\n",
    "    def _f(*args):\n",
    "        try:\n",
    "            return cache[args]\n",
    "        except KeyError:\n",
    "            cache[args] = result = f(*args)\n",
    "            return result\n",
    "        except TypeError:\n",
    "            # some element of args cann't be a dict key\n",
    "            return f(args)\n",
    "    return _f\n",
    "\n",
    "@decorator\n",
    "def countcall(f):\n",
    "    \"Decorator that make the function count calls to it, in callcounts[f]\"\n",
    "    def _f(*args):\n",
    "        callcounts[_f] += 1\n",
    "        return f(*args)\n",
    "    callcounts[_f] = 0\n",
    "    return _f\n",
    "\n",
    "callcounts = {} \n",
    "\n",
    "@decorator\n",
    "def trace(f):\n",
    "    indent = '    '\n",
    "    def _f(*args):\n",
    "        signature = \"{}({})\".format(f.__name__, ','.join(map(repr, args)))\n",
    "        print(\"{}--> {}\".format(trace.level*indent, signature))\n",
    "        trace.level += 1\n",
    "        try:\n",
    "#             print(\"before{}\".format(args))\n",
    "            result = f(*args)\n",
    "#             print(args)\n",
    "            print(\"{}<-- {} === {}\".format((trace.level - 1)*indent, signature, result))\n",
    "            \n",
    "        finally:\n",
    "                trace.level -= 1\n",
    "        \n",
    "        return result\n",
    "    trace.level = 0\n",
    "    return _f\n",
    "\n",
    "@decorator\n",
    "def disabled(f):\n",
    "    return f\n",
    "\n",
    "@trace\n",
    "@countcall\n",
    "@memo \n",
    "def fib(n): return 1 if n <= 1 else fib(n-1) + fib(n-2)"
   ]
  },
  {
   "cell_type": "markdown",
   "metadata": {},
   "source": [
    "- Dubugging Tools: countcalls, trace\n",
    "- Performance Tools: memo\n",
    "- Expressiveness Tools: n_ary and another"
   ]
  },
  {
   "cell_type": "code",
   "execution_count": 16,
   "metadata": {},
   "outputs": [
    {
     "name": "stdout",
     "output_type": "stream",
     "text": [
      "--> fib(6)\n",
      "    --> fib(5)\n",
      "        --> fib(4)\n",
      "            --> fib(3)\n",
      "                --> fib(2)\n",
      "                    --> fib(1)\n",
      "                    <-- fib(1) === 1\n",
      "                    --> fib(0)\n",
      "                    <-- fib(0) === 1\n",
      "                <-- fib(2) === 2\n",
      "                --> fib(1)\n",
      "                <-- fib(1) === 1\n",
      "            <-- fib(3) === 3\n",
      "            --> fib(2)\n",
      "            <-- fib(2) === 2\n",
      "        <-- fib(4) === 5\n",
      "        --> fib(3)\n",
      "        <-- fib(3) === 3\n",
      "    <-- fib(5) === 8\n",
      "    --> fib(4)\n",
      "    <-- fib(4) === 5\n",
      "<-- fib(6) === 13\n"
     ]
    },
    {
     "data": {
      "text/plain": [
       "13"
      ]
     },
     "execution_count": 16,
     "metadata": {},
     "output_type": "execute_result"
    }
   ],
   "source": [
    "fib(6)"
   ]
  },
  {
   "cell_type": "markdown",
   "metadata": {},
   "source": [
    "### Grammer "
   ]
  },
  {
   "cell_type": "code",
   "execution_count": 15,
   "metadata": {},
   "outputs": [],
   "source": [
    "def split(text, sep = None, maxsplit = -1):\n",
    "    \"Like str.split applied to text, but strips whitespace from each piece\"\n",
    "    return [t.strip() for t in text.strip().split(sep, maxsplit) if t]\n",
    "\n",
    "def grammar(description, whitespace=r'\\s*'):\n",
    "    \"\"\"Convert a discription to a grammar\"\"\"\n",
    "    G = {' ': whitespace}\n",
    "    description = description.replace('\\t', ' ') # no tabs!\n",
    "    for line in split(description, '\\n'):\n",
    "        lhs, rhs = split(line, ' => ', 1)\n",
    "        alternatives = split(rhs, ' | ')\n",
    "        G[lhs] = tuple(map(split, alternatives))\n",
    "    return G\n",
    "\n",
    "G = grammar(r\"\"\"\n",
    "Exp         => Term [+-] Exp | Term\n",
    "Term        => Factor [*/] Term | Factor\n",
    "Factor      => Funcall | Var | Num | [(] Exp [)]\n",
    "Funcall     => Var [(] Exps [)]\n",
    "Exps        => Exp [,] Exps | Exp\n",
    "Var         => [a-zA-Z]\\w*\n",
    "Num         => [-+]?[0-9]+([.][0-9]*)?\n",
    "\"\"\")"
   ]
  },
  {
   "cell_type": "code",
   "execution_count": null,
   "metadata": {},
   "outputs": [],
   "source": [
    "G"
   ]
  },
  {
   "cell_type": "code",
   "execution_count": 17,
   "metadata": {},
   "outputs": [],
   "source": [
    "def parse(start_symbol, text, grammer):\n",
    "    \"\"\"Example call: parse('Exp', '3*x + b', G)\n",
    "    Returns a (tree,remainder)pair. If remainder is '', it parsed the whole\n",
    "    string. Failure if ramainder is None, This is a deterministic PEG parser,\n",
    "    so rule order (left-to-right) matters. Do 'E => T op E | T', putting the \n",
    "    longest parse first; don't do 'E => T | T op E'\n",
    "    Alse, no left recursion allowed: don't do 'E => E op T'\"\"\"\n",
    "    tokenizer = grammer[' '] + '(%s)'\n",
    "    \n",
    "    def parse_sequence(sequence, text):\n",
    "        result = []\n",
    "        for atom in sequence:\n",
    "            tree, text = parse_atom(atom, text)\n",
    "            if text is None: return Fail\n",
    "            result.append(tree)\n",
    "        return result, text\n",
    "    \n",
    "    @memo\n",
    "    def parse_atom(atom, text):\n",
    "        if atom in grammer:\n",
    "            for alternative in grammer[atom]:  # Non-Terminal: tuple or alternatives\n",
    "                tree, rem = parse_sequence(alternative, text)\n",
    "                if rem is not None: return [atom] + tree, rem\n",
    "            return Fail\n",
    "        else: # Terminal: match characters against start of text\n",
    "            m = re.match(tokenizer % atom, text)\n",
    "            return Fail if (not m) else (m.group(1), text[m.end():])\n",
    "        \n",
    "    # Body of parse\n",
    "    return parse_atom(start_symbol, text)\n",
    "\n",
    "Fail = (None, None)"
   ]
  },
  {
   "cell_type": "code",
   "execution_count": 18,
   "metadata": {},
   "outputs": [],
   "source": [
    "def varify(G):\n",
    "    lhstokens = set(G) - set([' '])\n",
    "    rhstokens = set(t for alts in G.values() for alt in alts for t in alt)\n",
    "    def show(title, tokens):\n",
    "        print(title + '=' + ' '.join(sorted(tokens)))\n",
    "        \n",
    "    show('Non-Terms', G)\n",
    "    show('Terminals', rhstokens - lhstokens)\n",
    "    show('Suspects', [t for t in (rhstokens - lhstokens) if t.isalnum()])\n",
    "    show('Orphans ', lhstokens - rhstokens)"
   ]
  },
  {
   "cell_type": "markdown",
   "metadata": {},
   "source": [
    "### Problem Set 03 "
   ]
  },
  {
   "cell_type": "markdown",
   "metadata": {},
   "source": [
    "#### Json Parser "
   ]
  },
  {
   "cell_type": "code",
   "execution_count": 21,
   "metadata": {},
   "outputs": [],
   "source": [
    "# ---------------\n",
    "# User Instructions\n",
    "#\n",
    "# In this problem, you will be using many of the tools and techniques\n",
    "# that you developed in unit 3 to write a grammar that will allow\n",
    "# us to write a parser for the JSON language. \n",
    "#\n",
    "# You will have to visit json.org to see the JSON grammar. It is not \n",
    "# presented in the correct format for our grammar function, so you \n",
    "# will need to translate it.\n",
    "\n",
    "# ---------------\n",
    "\n",
    "JSON = grammar(\"\"\"\n",
    "object => { } | { members }\n",
    "members => pair , members | pair\n",
    "pair => string : value\n",
    "array => [[] []] | [[] elements []]\n",
    "elements => value , elements | value\n",
    "value => string | number | object | array | true | false | null\n",
    "string => \"[^\"]*\"\n",
    "number => int frac exp | int frac | int exp | int\n",
    "int => -?[1-9][0-9]*\n",
    "frac => [.][0-9]+\n",
    "exp => [eE][-+]?[0-9]+\n",
    "\"\"\", whitespace='\\s*')\n",
    "\n",
    "def json_parse(text):\n",
    "    return parse('value', text, JSON)\n",
    "\n",
    "def test():\n",
    "    assert json_parse('[\"testing\", 1, 2, 3]') == (                      \n",
    "                       ['value', ['array', '[', ['elements', ['value', \n",
    "                       ['string', '\"testing\"']], ',', ['elements', ['value', ['number', \n",
    "                       ['int', '1']]], ',', ['elements', ['value', ['number', \n",
    "                       ['int', '2']]], ',', ['elements', ['value', ['number', \n",
    "                       ['int', '3']]]]]]], ']']], '')\n",
    "    \n",
    "    assert json_parse('-123.456e+789') == (\n",
    "                       ['value', ['number', ['int', '-123'], ['frac', '.456'], ['exp', 'e+789']]], '')\n",
    "    \n",
    "    assert json_parse('{\"age\": 21, \"state\":\"CO\",\"occupation\":\"rides the rodeo\"}') == (\n",
    "                      ['value', ['object', '{', ['members', ['pair', ['string', '\"age\"'], \n",
    "                       ':', ['value', ['number', ['int', '21']]]], ',', ['members', \n",
    "                      ['pair', ['string', '\"state\"'], ':', ['value', ['string', '\"CO\"']]], \n",
    "                      ',', ['members', ['pair', ['string', '\"occupation\"'], ':', \n",
    "                      ['value', ['string', '\"rides the rodeo\"']]]]]], '}']], '')\n",
    "    return 'tests pass'"
   ]
  },
  {
   "cell_type": "code",
   "execution_count": 23,
   "metadata": {},
   "outputs": [
    {
     "name": "stdout",
     "output_type": "stream",
     "text": [
      "tests pass\n"
     ]
    }
   ],
   "source": [
    "print(test())"
   ]
  },
  {
   "cell_type": "markdown",
   "metadata": {},
   "source": [
    "#### Inverse Function "
   ]
  },
  {
   "cell_type": "code",
   "execution_count": 29,
   "metadata": {},
   "outputs": [
    {
     "name": "stdout",
     "output_type": "stream",
     "text": [
      "31622.7734375\n",
      "8.007781982421875\n"
     ]
    }
   ],
   "source": [
    "# --------------\n",
    "# User Instructions\n",
    "#\n",
    "# Write a function, inverse, which takes as input a monotonically\n",
    "# increasing (always increasing) function that is defined on the \n",
    "# non-negative numbers. The runtime of your program should be \n",
    "# proportional to the LOGARITHM of the input. You may want to \n",
    "# do some research into binary search and Newton's method to \n",
    "# help you out.\n",
    "#\n",
    "# This function should return another function which computes the\n",
    "# inverse of the input function. \n",
    "#\n",
    "# Your inverse function should also take an optional parameter, \n",
    "# delta, as input so that the computed value of the inverse will\n",
    "# be within delta of the true value.\n",
    "\n",
    "# -------------\n",
    "# Grading Notes\n",
    "#\n",
    "# Your function will be called with three test cases. The \n",
    "# input numbers will be large enough that your submission\n",
    "# will only terminate in the allotted time if it is \n",
    "# efficient enough. \n",
    "\n",
    "def slow_inverse(f, delta=1/128.):\n",
    "    \"\"\"Given a function y = f(x) that is a monotonically increasing function on\n",
    "    non-negatve numbers, return the function x = f_1(y) that is an approximate\n",
    "    inverse, picking the closest value to the inverse, within delta.\"\"\"\n",
    "    def f_1(y):\n",
    "        x = 0\n",
    "        while f(x) < y:\n",
    "            x += delta\n",
    "        # Now x is too big, x-delta is too small; pick the closest to y\n",
    "        return x if (f(x)-y < y-f(x-delta)) else x-delta\n",
    "    return f_1 \n",
    "\n",
    "def inverse(f, delta = 1/128.):\n",
    "    \"\"\"Given a function y = f(x) that is a monotonically increasing function on\n",
    "    non-negatve numbers, return the function x = f_1(y) that is an approximate\n",
    "    inverse, picking the closest value to the inverse, within delta.\"\"\"\n",
    "    def f_1(y):\n",
    "        lo, hi = find_bound(f, y)\n",
    "        return binary_search(f, y, lo, hi, delta)\n",
    "    return f_1\n",
    "\n",
    "def find_bound(f, y):\n",
    "    \"Find values lo, hi such that f(lo) <= y <= f(hi)\"\n",
    "    # Keep doubling x until f(x) >= y; that's hi;\n",
    "    # and lo will be either the previous x or 0.\n",
    "    x = 1\n",
    "    while f(x) < y:\n",
    "        x = x * 2.\n",
    "    lo = 0 if (x == 1) else x/2\n",
    "    return lo, x\n",
    "\n",
    "def binary_search(f, y, lo, hi, delta):\n",
    "    \"Given f(lo) <= y <= f(hi), return x such that f(x) is within delta of y.\"\n",
    "    while lo <= hi:\n",
    "        x = (lo + hi)/2\n",
    "        if f(x) < y:\n",
    "            lo = x + delta\n",
    "        elif f(x) > y:\n",
    "            hi = x - delta\n",
    "        else:\n",
    "            return x;\n",
    "    return hi if (f(hi) - y < y - f(lo)) else lo\n",
    "\n",
    "def square(x): return x*x\n",
    "\n",
    "def pow10(x): return 10**x\n",
    "\n",
    "log10 = inverse(pow10)\n",
    "\n",
    "sqrt = slow_inverse(square)\n",
    "\n",
    "print (sqrt(1000000000))\n",
    "\n",
    "print(log10(100000000))"
   ]
  },
  {
   "cell_type": "code",
   "execution_count": null,
   "metadata": {},
   "outputs": [],
   "source": []
  }
 ],
 "metadata": {
  "kernelspec": {
   "display_name": "Python 3",
   "language": "python",
   "name": "python3"
  },
  "language_info": {
   "codemirror_mode": {
    "name": "ipython",
    "version": 3
   },
   "file_extension": ".py",
   "mimetype": "text/x-python",
   "name": "python",
   "nbconvert_exporter": "python",
   "pygments_lexer": "ipython3",
   "version": "3.6.5"
  }
 },
 "nbformat": 4,
 "nbformat_minor": 2
}

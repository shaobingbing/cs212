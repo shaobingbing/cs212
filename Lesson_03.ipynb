{
 "cells": [
  {
   "cell_type": "markdown",
   "metadata": {},
   "source": [
    "#### Making tools"
   ]
  },
  {
   "cell_type": "markdown",
   "metadata": {},
   "source": [
    "#### Using technique"
   ]
  },
  {
   "cell_type": "code",
   "execution_count": 2,
   "metadata": {},
   "outputs": [],
   "source": [
    "## Regular Expression\n",
    "\n",
    "# s.find('substring') return the indice the substring if exists else -1\n",
    "# @pattern, origin        ----> pattern \n",
    "#           baa!|baaa!    ----> baa*!\n",
    "# '*' : any numbers of the preceding word\n",
    "# '?' : zero or one word(exist or not exist)\n",
    "# '.' : any single character\n",
    "# '^' : the begging of the text\n",
    "# '$' : the end of the text\n",
    "\n",
    "def search(pattern, text):\n",
    "    \"Return True if pattern appears anywhere in text\"\n",
    "    if pattern.startswith('^'):\n",
    "        return match(pattern[1:] , text)\n",
    "    else:\n",
    "        return match('.*' + pattern, text)\n",
    "    \n",
    "def match(pattern, text):\n",
    "    \"return True if pattern appears at the start of text\"\n",
    "    if pattern = '':\n",
    "        return True\n",
    "    \n",
    "    elif pattern == '$':\n",
    "        return (text == '')\n",
    "    elif len(pattern) > 1 and pattern[1] in '*?':\n",
    "        p, op, pat = pattern[0], pattern[1], pattern[1:]\n",
    "        if op == '*':\n",
    "            return match_star(p, pat, text)\n",
    "        elif op == '?':\n",
    "            if match1(p, text) and match(pat, text):\n",
    "                return True\n",
    "            else:\n",
    "                return match(pat, text)\n",
    "        \n",
    "    else:\n",
    "        return (match1(pattern[0], text) and match(pattern[1:], text[1:])\n",
    "def test():\n",
    "    #test search(pattern, text)\n",
    "    assert search('baa*!', 'Sheep said baaaa!') == True\n",
    "    assert search('baa*!', 'Sheep said baaaa humbu!') == False\n",
    "    assert search('def', 'abcdefg')\n",
    "    assert search('def$', 'abcdef')\n",
    "    assert search('def$', 'abcdefg') == False\n",
    "    assert search('^start', 'not the start') == False\n",
    "    assert search('start', 'not the start')\n",
    "    \n",
    "    # test match(pattern ,text)\n",
    "    assert match('baa*!', 'Sheep said baaa!') == False\n",
    "    assert match('baa*!', 'baaaaaaa! said the sheep')\n",
    "    assert match('start', 'not the start') == False\n",
    "    assert match('a*b*c*', 'just anything')\n",
    "    assert mathc('x?', 'text')\n",
    "    assert match('text?', 'text')\n",
    "    assert match('text?', 'tex')\n",
    "    \n",
    "    assert all(match('aa*bb*cc*$', s) \n",
    "               for s in words('abc aaabbcc aaaabcccc'))\n",
    "    assert not any(match('aa*bb*cc*$', s)\n",
    "                   for s in words('ac aaabbcccd aaaa-b-cccc'))\n",
    "    assert all(search('^ab.*aca.*a$', s)\n",
    "              for s in words('abracadavra abacaa about-acacia-i'))\n",
    "    assert all(search('t.p', s)\n",
    "              for s in words('tip top tap atypical tepid stop'))\n",
    "    assert not any(search('t.p', s)\n",
    "                  for s in word('TYPE teepee tp'))\n",
    "    \n",
    "    return 'test passes'\n",
    "    \n",
    "def words(text):return text.split()\n",
    "                     \n",
    "                     "
   ]
  }
 ],
 "metadata": {
  "kernelspec": {
   "display_name": "Python 3",
   "language": "python",
   "name": "python3"
  },
  "language_info": {
   "codemirror_mode": {
    "name": "ipython",
    "version": 3
   },
   "file_extension": ".py",
   "mimetype": "text/x-python",
   "name": "python",
   "nbconvert_exporter": "python",
   "pygments_lexer": "ipython3",
   "version": "3.6.5"
  }
 },
 "nbformat": 4,
 "nbformat_minor": 2
}

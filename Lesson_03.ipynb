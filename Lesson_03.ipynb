{
 "cells": [
  {
   "cell_type": "markdown",
   "metadata": {},
   "source": [
    "## Making tools"
   ]
  },
  {
   "cell_type": "markdown",
   "metadata": {},
   "source": [
    "### Using technique"
   ]
  },
  {
   "cell_type": "code",
   "execution_count": 31,
   "metadata": {},
   "outputs": [
    {
     "name": "stdout",
     "output_type": "stream",
     "text": [
      "test passes\n"
     ]
    }
   ],
   "source": [
    "## Regular Expression\n",
    "\n",
    "# s.find('substring') return the indice the substring if exists else -1\n",
    "# @pattern, origin        ----> pattern \n",
    "#           baa!|baaa!    ----> baa*!\n",
    "# '*' : any numbers of the preceding word\n",
    "# '?' : zero or one word(exist or not exist)\n",
    "# '.' : any single character\n",
    "# '^' : the begging of the text\n",
    "# '$' : the end of the text\n",
    "\n",
    "def search(pattern, text):\n",
    "    \"Return True if pattern appears anywhere in text\"\n",
    "    if pattern.startswith('^'):\n",
    "        return match(pattern[1:] , text)\n",
    "    else:\n",
    "#         print('.*' + pattern)\n",
    "        return match('.*' + pattern, text)\n",
    "    \n",
    "def match(pattern, text):\n",
    "    \"return True if pattern appears at the start of text\"\n",
    "    if pattern == '':\n",
    "        return True\n",
    "    \n",
    "    elif pattern == '$':\n",
    "        return (text == '')\n",
    "    elif len(pattern) > 1 and pattern[1] in '*?':\n",
    "        p, op, pat = pattern[0], pattern[1], pattern[2:]\n",
    "#         print(p, op, pat)\n",
    "        if op == '*':\n",
    "            return match_star(p, pat, text)\n",
    "        elif op == '?':\n",
    "            if match1(p, text) and match(pat, text):\n",
    "                return True\n",
    "            else:\n",
    "                return match(pat, text)\n",
    "        \n",
    "    else:\n",
    "        return (match1(pattern[0], text) and match(pattern[1:], text[1:]))\n",
    "    \n",
    "\n",
    "def match1(p, text):\n",
    "    \"\"\"Return True if first character of text natches pattern character p\"\"\"\n",
    "    if not text: return False\n",
    "    return p == '.' or p == text[0]\n",
    "\n",
    "\n",
    "def match_star(p, pattern, text):\n",
    "    \"\"\"Return true if any number of char p, follwed by pattern, matches text.\"\"\"\n",
    "    return (match(pattern, text) or\n",
    "            (match1(p, text) and match_star(p, pattern, text[1:])))\n",
    "    \n",
    "def test():\n",
    "    #test search(pattern, text)\n",
    "    assert search('baa*!', 'Sheep said baaaa!') == True\n",
    "    assert search('baa*!', 'Sheep said baaaa humbu!') == False\n",
    "    assert search('def', 'abcdefg')\n",
    "    assert search('def$', 'abcdef')\n",
    "    assert search('def$', 'abcdefg') == False\n",
    "    assert search('^start', 'not the start') == False\n",
    "    assert search('start', 'not the start')\n",
    "    \n",
    "    # test match(pattern ,text)\n",
    "    assert match('baa*!', 'Sheep said baaa!') == False\n",
    "    assert match('baa*!', 'baaaaaaa! said the sheep')\n",
    "    assert match('start', 'not the start') == False\n",
    "    assert match('a*b*c*', 'just anything')\n",
    "    assert match('x?', 'text')\n",
    "    assert match('text?', 'text')\n",
    "    assert match('text?', 'tex')\n",
    "    \n",
    "    assert all(match('aa*bb*cc*$', s) \n",
    "               for s in words('abc aaabbcc aaaabcccc'))\n",
    "    assert not any(match('aa*bb*cc*$', s)\n",
    "                   for s in words('ac aaabbcccd aaaa-b-cccc'))\n",
    "    assert all(search('^ab.*aca.*a$', s)\n",
    "              for s in words('abracadavra abacaa about-acacia-a'))\n",
    "    assert all(search('t.p', s)\n",
    "              for s in words('tip top tap atypical tepid stop'))\n",
    "    assert not any(search('t.p', s)\n",
    "                  for s in words('TYPE teepee tp'))\n",
    "    \n",
    "    return 'test passes'\n",
    "    \n",
    "def words(text):return text.split()\n",
    "\n",
    "\n",
    "print(test())\n",
    "\n",
    "## http://tinyurl.com/pike-regexp"
   ]
  },
  {
   "cell_type": "markdown",
   "metadata": {},
   "source": [
    "### Language && Grammer\n",
    "**language** : a set of strings  \n",
    "**grammer** : a description of a language"
   ]
  },
  {
   "cell_type": "markdown",
   "metadata": {},
   "source": [
    "#### Regular Expression"
   ]
  },
  {
   "cell_type": "code",
   "execution_count": null,
   "metadata": {},
   "outputs": [],
   "source": [
    "import re"
   ]
  },
  {
   "cell_type": "code",
   "execution_count": null,
   "metadata": {},
   "outputs": [],
   "source": [
    "def test_search():\n",
    "    a,b,c = lit('a'), lit('b'), lit('c')\n",
    "    abcstars = seq(star(a), star(b), star(c))\n",
    "    dotstar = star(dot)\n",
    "    r = seq(lit('ab'), seq(dotstar, seq(lit('aca'), seq(dotstar, seq(a, eol))))) \n",
    "    \n",
    "    assert search(lit('def'), 'abcdefg') == 'def'\n",
    "    assert search(seq(lit('def'), eol), 'abcdef') == 'def'\n",
    "    assert search(seq(lit('def'), eol), 'abcdefg') == None\n",
    "    assert search(a, 'not the start') == 'a'\n",
    "    \n",
    "    assert match(a, 'not the start') == None\n",
    "    assert match(abcstar, 'aaabbbccccccccdef') == 'aaabbbccccccccdef'\n",
    "    assert match(abcstars, 'junk') == ''\n",
    "    \n",
    "    assert all(match(seq(abcstars, eol), s) == s\n",
    "              for s in 'abc aaabbccc aaaabcccc'.split())\n",
    "    assert all(match(seq(abcstar, eol), s) == None\n",
    "              for s in 'cab aaabbcccd aaaa-b-cccc'.split())\n",
    "    assert all(search(r, s) is not None\n",
    "              for s in 'abracadabra abacaa about-acacia-flora'.split())\n",
    "    assert all(match(seq(c, seq(dotstar, b)), s) is not None\n",
    "              for s in 'cab cab carob ca carbuncle'.split())\n",
    "    assert not any(match(seq(c, seq(dot,b)), s) \n",
    "                  for s in 'crab cb across scab'.split())\n",
    "    \n",
    "    return test_search passes"
   ]
  },
  {
   "cell_type": "code",
   "execution_count": null,
   "metadata": {},
   "outputs": [],
   "source": []
  },
  {
   "cell_type": "markdown",
   "metadata": {},
   "source": [
    "### compiler && interpreter"
   ]
  },
  {
   "cell_type": "code",
   "execution_count": null,
   "metadata": {},
   "outputs": [],
   "source": []
  }
 ],
 "metadata": {
  "kernelspec": {
   "display_name": "Python 3",
   "language": "python",
   "name": "python3"
  },
  "language_info": {
   "codemirror_mode": {
    "name": "ipython",
    "version": 3
   },
   "file_extension": ".py",
   "mimetype": "text/x-python",
   "name": "python",
   "nbconvert_exporter": "python",
   "pygments_lexer": "ipython3",
   "version": "3.6.5"
  }
 },
 "nbformat": 4,
 "nbformat_minor": 2
}

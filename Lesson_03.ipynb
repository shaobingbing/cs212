{
 "cells": [
  {
   "cell_type": "markdown",
   "metadata": {},
   "source": [
    "## Making tools"
   ]
  },
  {
   "cell_type": "markdown",
   "metadata": {},
   "source": [
    "### Using technique"
   ]
  },
  {
   "cell_type": "code",
   "execution_count": 31,
   "metadata": {},
   "outputs": [
    {
     "name": "stdout",
     "output_type": "stream",
     "text": [
      "test passes\n"
     ]
    }
   ],
   "source": [
    "## Regular Expression\n",
    "\n",
    "# s.find('substring') return the indice the substring if exists else -1\n",
    "# @pattern, origin        ----> pattern \n",
    "#           baa!|baaa!    ----> baa*!\n",
    "# '*' : any numbers of the preceding word\n",
    "# '?' : zero or one word(exist or not exist)\n",
    "# '.' : any single character\n",
    "# '^' : the begging of the text\n",
    "# '$' : the end of the text\n",
    "\n",
    "def search(pattern, text):\n",
    "    \"Return True if pattern appears anywhere in text\"\n",
    "    if pattern.startswith('^'):\n",
    "        return match(pattern[1:] , text)\n",
    "    else:\n",
    "#         print('.*' + pattern)\n",
    "        return match('.*' + pattern, text)\n",
    "    \n",
    "def match(pattern, text):\n",
    "    \"return True if pattern appears at the start of text\"\n",
    "    if pattern == '':\n",
    "        return True\n",
    "    \n",
    "    elif pattern == '$':\n",
    "        return (text == '')\n",
    "    elif len(pattern) > 1 and pattern[1] in '*?':\n",
    "        p, op, pat = pattern[0], pattern[1], pattern[2:]\n",
    "#         print(p, op, pat)\n",
    "        if op == '*':\n",
    "            return match_star(p, pat, text)\n",
    "        elif op == '?':\n",
    "            if match1(p, text) and match(pat, text):\n",
    "                return True\n",
    "            else:\n",
    "                return match(pat, text)\n",
    "        \n",
    "    else:\n",
    "        return (match1(pattern[0], text) and match(pattern[1:], text[1:]))\n",
    "    \n",
    "\n",
    "def match1(p, text):\n",
    "    \"\"\"Return True if first character of text natches pattern character p\"\"\"\n",
    "    if not text: return False\n",
    "    return p == '.' or p == text[0]\n",
    "\n",
    "\n",
    "def match_star(p, pattern, text):\n",
    "    \"\"\"Return true if any number of char p, follwed by pattern, matches text.\"\"\"\n",
    "    return (match(pattern, text) or\n",
    "            (match1(p, text) and match_star(p, pattern, text[1:])))\n",
    "    \n",
    "def test():\n",
    "    #test search(pattern, text)\n",
    "    assert search('baa*!', 'Sheep said baaaa!') == True\n",
    "    assert search('baa*!', 'Sheep said baaaa humbu!') == False\n",
    "    assert search('def', 'abcdefg')\n",
    "    assert search('def$', 'abcdef')\n",
    "    assert search('def$', 'abcdefg') == False\n",
    "    assert search('^start', 'not the start') == False\n",
    "    assert search('start', 'not the start')\n",
    "    \n",
    "    # test match(pattern ,text)\n",
    "    assert match('baa*!', 'Sheep said baaa!') == False\n",
    "    assert match('baa*!', 'baaaaaaa! said the sheep')\n",
    "    assert match('start', 'not the start') == False\n",
    "    assert match('a*b*c*', 'just anything')\n",
    "    assert match('x?', 'text')\n",
    "    assert match('text?', 'text')\n",
    "    assert match('text?', 'tex')\n",
    "    \n",
    "    assert all(match('aa*bb*cc*$', s) \n",
    "               for s in words('abc aaabbcc aaaabcccc'))\n",
    "    assert not any(match('aa*bb*cc*$', s)\n",
    "                   for s in words('ac aaabbcccd aaaa-b-cccc'))\n",
    "    assert all(search('^ab.*aca.*a$', s)\n",
    "              for s in words('abracadavra abacaa about-acacia-a'))\n",
    "    assert all(search('t.p', s)\n",
    "              for s in words('tip top tap atypical tepid stop'))\n",
    "    assert not any(search('t.p', s)\n",
    "                  for s in words('TYPE teepee tp'))\n",
    "    \n",
    "    return 'test passes'\n",
    "    \n",
    "def words(text):return text.split()\n",
    "\n",
    "\n",
    "print(test())\n",
    "\n",
    "## http://tinyurl.com/pike-regexp"
   ]
  },
  {
   "cell_type": "markdown",
   "metadata": {},
   "source": [
    "### Language && Grammer\n",
    "**language** : a set of strings  \n",
    "**grammer** : a description of a language"
   ]
  },
  {
   "cell_type": "markdown",
   "metadata": {},
   "source": [
    "#### Regular Expression"
   ]
  },
  {
   "cell_type": "code",
   "execution_count": null,
   "metadata": {},
   "outputs": [],
   "source": [
    "import re"
   ]
  },
  {
   "cell_type": "code",
   "execution_count": 77,
   "metadata": {},
   "outputs": [],
   "source": [
    "def search(pattern, text):\n",
    "    \"Match pattern anywhere in text; return longest earliest match or None\"\n",
    "    for i in range(len(text)):\n",
    "        m = match(pattern, text[i:])\n",
    "        if m is not None:\n",
    "            return m\n",
    "def match(pattern, text):\n",
    "    \"Match pattern againest start of text; return longest match found or None\"\n",
    "    ramainders = matchset(pattern ,text)\n",
    "    if ramainders:\n",
    "        shortest = min(remainders, key = len)\n",
    "        return text[:len(text) - len(shortest)]\n",
    "\n",
    "def components(pattern):\n",
    "    \"Return the op, x, and y arguments; x and y are None if missing.\"\n",
    "    x = pattern[1] if len(pattern) > 1 else None\n",
    "    y = pattern[2] if len(pattern) > 2 else None\n",
    "    return pattern[0], x, y\n",
    "\n",
    "def matchset(pattern, text):\n",
    "    \"Match pattern at start of text; return a set of ramainders of text.\"\n",
    "    op, x ,y = components(pattern)\n",
    "    if 'lit' == op:\n",
    "        return set([text[len(x):]]) if text.startswith(x) else null\n",
    "    elif 'seq' == op:\n",
    "        return set(t2 for t1 in matchset(x, text) for t2 in matchset(y, t1))\n",
    "    elif 'alt' == op:\n",
    "        return matchset(x, text) | matchset(y, text)\n",
    "    elif 'dot' == op:\n",
    "        return set([text[1:]] if text else null)\n",
    "    elif 'oneof' == op:\n",
    "        return set([text[1:]]) if any(text.startswith(c) for c in x) else null\n",
    "    elif 'eol' == op:\n",
    "        return set(['']) if text == '' else null\n",
    "    elif 'star' == op:\n",
    "        return (set([text]) |\n",
    "                set(t2 for t1 in matchset(x, text)\n",
    "                   for t2 in matchset(pattern, t1) if t1 != text))\n",
    "    else:\n",
    "        raise ValueError('unknown pattern: {}'.format(pattern))\n",
    "        \n",
    "null = frozenset()\n",
    "\n",
    "def lit(string):\n",
    "#     return ('lit', string)\n",
    "    return lambda text:set([text[len(string):]]) if text.startswith(string) else null\n",
    "\n",
    "def seq(x,y):\n",
    "#     return ('seq', x, y)\n",
    "    return lambda text:set(t2 for t1 in x(text) for t2 in y(t1))\n",
    "\n",
    "def alt(x, y):\n",
    "#     return ('alt', x, y)\n",
    "    return lambda text: x(text) | y(text)\n",
    "\n",
    "def star(x):\n",
    "#     return ('star', x)\n",
    "    return lambda text:(set([text]) |\n",
    "                set(t2 for t1 in x(text)\n",
    "                   for t2 in x(t1) if t1 != text))\n",
    "def plus(x):\n",
    "    return ('plus', x)\n",
    "\n",
    "def opt(x):\n",
    "    return ('opt', x)\n",
    "\n",
    "def oneof(chars):\n",
    "    return ('oneof', tuple(chars))\n",
    "\n",
    "dot = ('dot',)\n",
    "\n",
    "eol = ('eol',)\n",
    "\n",
    "def test_search():\n",
    "    a,b,c = lit('a'), lit('b'), lit('c')\n",
    "    abcstars = seq(star(a), star(b), star(c))\n",
    "    dotstar = star(dot)\n",
    "    r = seq(lit('ab'), seq(dotstar, seq(lit('aca'), seq(dotstar, seq(a, eol))))) \n",
    "    \n",
    "    assert search(lit('def'), 'abcdefg') == 'def'\n",
    "    assert search(seq(lit('def'), eol), 'abcdef') == 'def'\n",
    "    assert search(seq(lit('def'), eol), 'abcdefg') == None\n",
    "    assert search(a, 'not the start') == 'a'\n",
    "    \n",
    "    assert match(a, 'not the start') == None\n",
    "    assert match(abcstar, 'aaabbbccccccccdef') == 'aaabbbccccccccdef'\n",
    "    assert match(abcstars, 'junk') == ''\n",
    "    \n",
    "    assert all(match(seq(abcstars, eol), s) == s\n",
    "              for s in 'abc aaabbccc aaaabcccc'.split())\n",
    "    assert all(match(seq(abcstar, eol), s) == None\n",
    "              for s in 'cab aaabbcccd aaaa-b-cccc'.split())\n",
    "    assert all(search(r, s) is not None\n",
    "              for s in 'abracadabra abacaa about-acacia-flora'.split())\n",
    "    assert all(match(seq(c, seq(dotstar, b)), s) is not None\n",
    "              for s in 'cab cab carob ca carbuncle'.split())\n",
    "    assert not any(match(seq(c, seq(dot,b)), s) \n",
    "                  for s in 'crab cb across scab'.split())\n",
    "    \n",
    "    return 'test_search passes'"
   ]
  },
  {
   "cell_type": "code",
   "execution_count": 59,
   "metadata": {},
   "outputs": [
    {
     "data": {
      "text/plain": [
       "{'3'}"
      ]
     },
     "execution_count": 59,
     "metadata": {},
     "output_type": "execute_result"
    }
   ],
   "source": [
    "matchset(seq(dot, lit('2')), '123')"
   ]
  },
  {
   "cell_type": "code",
   "execution_count": 78,
   "metadata": {},
   "outputs": [
    {
     "data": {
      "text/plain": [
       "{'c'}"
      ]
     },
     "execution_count": 78,
     "metadata": {},
     "output_type": "execute_result"
    }
   ],
   "source": [
    "pat = seq(lit('a'), lit('b'))\n",
    "pat('abc')"
   ]
  },
  {
   "cell_type": "markdown",
   "metadata": {},
   "source": [
    "### compiler && interpreter"
   ]
  },
  {
   "cell_type": "code",
   "execution_count": 80,
   "metadata": {},
   "outputs": [
    {
     "name": "stdout",
     "output_type": "stream",
     "text": [
      "  2           0 LOAD_GLOBAL              0 (aqrt)\n",
      "              2 LOAD_FAST                0 (x)\n",
      "              4 LOAD_CONST               1 (2)\n",
      "              6 BINARY_POWER\n",
      "              8 LOAD_FAST                1 (y)\n",
      "             10 LOAD_CONST               1 (2)\n",
      "             12 BINARY_POWER\n",
      "             14 BINARY_ADD\n",
      "             16 CALL_FUNCTION            1\n",
      "             18 RETURN_VALUE\n"
     ]
    }
   ],
   "source": [
    "import dis\n",
    "dis.dis(lambda x, y: aqrt(x ** 2 + y ** 2))"
   ]
  },
  {
   "cell_type": "code",
   "execution_count": null,
   "metadata": {},
   "outputs": [],
   "source": []
  }
 ],
 "metadata": {
  "kernelspec": {
   "display_name": "Python 3",
   "language": "python",
   "name": "python3"
  },
  "language_info": {
   "codemirror_mode": {
    "name": "ipython",
    "version": 3
   },
   "file_extension": ".py",
   "mimetype": "text/x-python",
   "name": "python",
   "nbconvert_exporter": "python",
   "pygments_lexer": "ipython3",
   "version": "3.6.5"
  }
 },
 "nbformat": 4,
 "nbformat_minor": 2
}
